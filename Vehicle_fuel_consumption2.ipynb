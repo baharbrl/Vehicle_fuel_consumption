{
  "nbformat": 4,
  "nbformat_minor": 0,
  "metadata": {
    "colab": {
      "name": "Vehicle_fuel_consumption2.ipynb",
      "provenance": [],
      "collapsed_sections": [],
      "mount_file_id": "1vBT4YzzFq2xifWoKyRJDwWTJQU5LiF3Z",
      "authorship_tag": "ABX9TyPGbBaVSSrV/HMDRAjVoCVf",
      "include_colab_link": true
    },
    "kernelspec": {
      "display_name": "Python 3",
      "name": "python3"
    },
    "language_info": {
      "name": "python"
    }
  },
  "cells": [
    {
      "cell_type": "markdown",
      "metadata": {
        "id": "view-in-github",
        "colab_type": "text"
      },
      "source": [
        "<a href=\"https://colab.research.google.com/github/baharbrl/Vehicle_fuel_consumption/blob/main/Vehicle_fuel_consumption2.ipynb\" target=\"_parent\"><img src=\"https://colab.research.google.com/assets/colab-badge.svg\" alt=\"Open In Colab\"/></a>"
      ]
    },
    {
      "cell_type": "code",
      "metadata": {
        "colab": {
          "base_uri": "https://localhost:8080/"
        },
        "id": "YnMbw2IxNf-s",
        "outputId": "4eebecc3-d3f1-4ccd-e2b2-1ce48d74f1d6"
      },
      "source": [
        "!apt-get update #depolama alanı güncelleme"
      ],
      "execution_count": null,
      "outputs": [
        {
          "output_type": "stream",
          "text": [
            "\r0% [Working]\r            \rHit:1 https://cloud.r-project.org/bin/linux/ubuntu bionic-cran40/ InRelease\n",
            "\r0% [Connecting to archive.ubuntu.com] [Connecting to security.ubuntu.com] [Conn\r                                                                               \rIgn:2 https://developer.download.nvidia.com/compute/cuda/repos/ubuntu1804/x86_64  InRelease\n",
            "\r0% [Connecting to archive.ubuntu.com] [Connecting to security.ubuntu.com] [Conn\r0% [1 InRelease gpgv 3,626 B] [Connecting to archive.ubuntu.com] [Connecting to\r                                                                               \rIgn:3 https://developer.download.nvidia.com/compute/machine-learning/repos/ubuntu1804/x86_64  InRelease\n",
            "\r0% [1 InRelease gpgv 3,626 B] [Connecting to archive.ubuntu.com] [Connecting to\r                                                                               \rHit:4 https://developer.download.nvidia.com/compute/cuda/repos/ubuntu1804/x86_64  Release\n",
            "Hit:5 https://developer.download.nvidia.com/compute/machine-learning/repos/ubuntu1804/x86_64  Release\n",
            "Hit:6 http://security.ubuntu.com/ubuntu bionic-security InRelease\n",
            "Hit:7 http://ppa.launchpad.net/c2d4u.team/c2d4u4.0+/ubuntu bionic InRelease\n",
            "Hit:8 http://archive.ubuntu.com/ubuntu bionic InRelease\n",
            "Hit:10 http://ppa.launchpad.net/cran/libgit2/ubuntu bionic InRelease\n",
            "Get:11 http://archive.ubuntu.com/ubuntu bionic-updates InRelease [88.7 kB]\n",
            "Hit:13 http://ppa.launchpad.net/deadsnakes/ppa/ubuntu bionic InRelease\n",
            "Get:14 http://archive.ubuntu.com/ubuntu bionic-backports InRelease [74.6 kB]\n",
            "Hit:15 http://ppa.launchpad.net/graphics-drivers/ppa/ubuntu bionic InRelease\n",
            "Fetched 163 kB in 3s (64.9 kB/s)\n",
            "Reading package lists... Done\n"
          ],
          "name": "stdout"
        }
      ]
    },
    {
      "cell_type": "code",
      "metadata": {
        "colab": {
          "base_uri": "https://localhost:8080/",
          "height": 35
        },
        "id": "p8YIlS3VNf16",
        "outputId": "9b7ecd77-57ff-4415-83be-286dbce87dcd"
      },
      "source": [
        "%pwd #adres öğrenme"
      ],
      "execution_count": null,
      "outputs": [
        {
          "output_type": "execute_result",
          "data": {
            "application/vnd.google.colaboratory.intrinsic+json": {
              "type": "string"
            },
            "text/plain": [
              "'/content'"
            ]
          },
          "metadata": {
            "tags": []
          },
          "execution_count": 190
        }
      ]
    },
    {
      "cell_type": "code",
      "metadata": {
        "id": "apkVJtSSHkca"
      },
      "source": [
        "!pip install -q keras"
      ],
      "execution_count": null,
      "outputs": []
    },
    {
      "cell_type": "code",
      "metadata": {
        "id": "Hl9N-VbWJV0o"
      },
      "source": [
        "import pandas as pd\n",
        "import seaborn as sns\n",
        "import numpy as np\n",
        "import matplotlib.pyplot as plt\n",
        "import keras\n",
        "import math\n",
        "\n",
        "from keras.models import Sequential\n",
        "from keras.layers import Dense\n",
        "from keras.layers import LSTM\n",
        "\n",
        "from scipy import stats\n",
        "from scipy.stats import norm, skew\n",
        "\n",
        "from sklearn.preprocessing import RobustScaler, StandardScaler, MinMaxScaler\n",
        "from sklearn.linear_model import LinearRegression, Ridge, Lasso, ElasticNet\n",
        "from sklearn.model_selection import train_test_split, GridSearchCV\n",
        "from sklearn.metrics import mean_squared_error\n",
        "from sklearn.base import BaseEstimator, TransformerMixin, RegressorMixin, clone\n",
        "\n",
        "import warnings\n",
        "warnings.filterwarnings('ignore')"
      ],
      "execution_count": null,
      "outputs": []
    },
    {
      "cell_type": "code",
      "metadata": {
        "id": "cpyTHrABGhmL"
      },
      "source": [
        "#feature isimleri\n",
        "column_name = [\"MPG\", \"Cylinders\", \"Displacement\",\"Horsepower\",\"Weight\",\"Acceleration\",\"Model Year\", \"Origin\"]"
      ],
      "execution_count": null,
      "outputs": []
    },
    {
      "cell_type": "code",
      "metadata": {
        "colab": {
          "base_uri": "https://localhost:8080/",
          "height": 402
        },
        "id": "ap7O9AoEYkP4",
        "outputId": "f3eb67d9-6980-4115-bd46-0038824d75d7"
      },
      "source": [
        "#nonvalue=? alalım boşluk kısmını true yapalım atlayalım\n",
        "data = pd.read_csv(\"/content/drive/MyDrive/ColabNotebooks/vehicle_fuel_consumption_analysis/auto-mpg.data\", names = column_name, na_values = \"?\", comment = \"\\t\",sep = \" \", skipinitialspace = True)\n",
        "data"
      ],
      "execution_count": null,
      "outputs": [
        {
          "output_type": "execute_result",
          "data": {
            "text/html": [
              "<div>\n",
              "<style scoped>\n",
              "    .dataframe tbody tr th:only-of-type {\n",
              "        vertical-align: middle;\n",
              "    }\n",
              "\n",
              "    .dataframe tbody tr th {\n",
              "        vertical-align: top;\n",
              "    }\n",
              "\n",
              "    .dataframe thead th {\n",
              "        text-align: right;\n",
              "    }\n",
              "</style>\n",
              "<table border=\"1\" class=\"dataframe\">\n",
              "  <thead>\n",
              "    <tr style=\"text-align: right;\">\n",
              "      <th></th>\n",
              "      <th>MPG</th>\n",
              "      <th>Cylinders</th>\n",
              "      <th>Displacement</th>\n",
              "      <th>Horsepower</th>\n",
              "      <th>Weight</th>\n",
              "      <th>Acceleration</th>\n",
              "      <th>Model Year</th>\n",
              "      <th>Origin</th>\n",
              "    </tr>\n",
              "  </thead>\n",
              "  <tbody>\n",
              "    <tr>\n",
              "      <th>0</th>\n",
              "      <td>18.0</td>\n",
              "      <td>8</td>\n",
              "      <td>307.0</td>\n",
              "      <td>130.0</td>\n",
              "      <td>3504.0</td>\n",
              "      <td>12.0</td>\n",
              "      <td>70</td>\n",
              "      <td>1</td>\n",
              "    </tr>\n",
              "    <tr>\n",
              "      <th>1</th>\n",
              "      <td>15.0</td>\n",
              "      <td>8</td>\n",
              "      <td>350.0</td>\n",
              "      <td>165.0</td>\n",
              "      <td>3693.0</td>\n",
              "      <td>11.5</td>\n",
              "      <td>70</td>\n",
              "      <td>1</td>\n",
              "    </tr>\n",
              "    <tr>\n",
              "      <th>2</th>\n",
              "      <td>18.0</td>\n",
              "      <td>8</td>\n",
              "      <td>318.0</td>\n",
              "      <td>150.0</td>\n",
              "      <td>3436.0</td>\n",
              "      <td>11.0</td>\n",
              "      <td>70</td>\n",
              "      <td>1</td>\n",
              "    </tr>\n",
              "    <tr>\n",
              "      <th>3</th>\n",
              "      <td>16.0</td>\n",
              "      <td>8</td>\n",
              "      <td>304.0</td>\n",
              "      <td>150.0</td>\n",
              "      <td>3433.0</td>\n",
              "      <td>12.0</td>\n",
              "      <td>70</td>\n",
              "      <td>1</td>\n",
              "    </tr>\n",
              "    <tr>\n",
              "      <th>4</th>\n",
              "      <td>17.0</td>\n",
              "      <td>8</td>\n",
              "      <td>302.0</td>\n",
              "      <td>140.0</td>\n",
              "      <td>3449.0</td>\n",
              "      <td>10.5</td>\n",
              "      <td>70</td>\n",
              "      <td>1</td>\n",
              "    </tr>\n",
              "    <tr>\n",
              "      <th>...</th>\n",
              "      <td>...</td>\n",
              "      <td>...</td>\n",
              "      <td>...</td>\n",
              "      <td>...</td>\n",
              "      <td>...</td>\n",
              "      <td>...</td>\n",
              "      <td>...</td>\n",
              "      <td>...</td>\n",
              "    </tr>\n",
              "    <tr>\n",
              "      <th>393</th>\n",
              "      <td>27.0</td>\n",
              "      <td>4</td>\n",
              "      <td>140.0</td>\n",
              "      <td>86.0</td>\n",
              "      <td>2790.0</td>\n",
              "      <td>15.6</td>\n",
              "      <td>82</td>\n",
              "      <td>1</td>\n",
              "    </tr>\n",
              "    <tr>\n",
              "      <th>394</th>\n",
              "      <td>44.0</td>\n",
              "      <td>4</td>\n",
              "      <td>97.0</td>\n",
              "      <td>52.0</td>\n",
              "      <td>2130.0</td>\n",
              "      <td>24.6</td>\n",
              "      <td>82</td>\n",
              "      <td>2</td>\n",
              "    </tr>\n",
              "    <tr>\n",
              "      <th>395</th>\n",
              "      <td>32.0</td>\n",
              "      <td>4</td>\n",
              "      <td>135.0</td>\n",
              "      <td>84.0</td>\n",
              "      <td>2295.0</td>\n",
              "      <td>11.6</td>\n",
              "      <td>82</td>\n",
              "      <td>1</td>\n",
              "    </tr>\n",
              "    <tr>\n",
              "      <th>396</th>\n",
              "      <td>28.0</td>\n",
              "      <td>4</td>\n",
              "      <td>120.0</td>\n",
              "      <td>79.0</td>\n",
              "      <td>2625.0</td>\n",
              "      <td>18.6</td>\n",
              "      <td>82</td>\n",
              "      <td>1</td>\n",
              "    </tr>\n",
              "    <tr>\n",
              "      <th>397</th>\n",
              "      <td>31.0</td>\n",
              "      <td>4</td>\n",
              "      <td>119.0</td>\n",
              "      <td>82.0</td>\n",
              "      <td>2720.0</td>\n",
              "      <td>19.4</td>\n",
              "      <td>82</td>\n",
              "      <td>1</td>\n",
              "    </tr>\n",
              "  </tbody>\n",
              "</table>\n",
              "<p>398 rows × 8 columns</p>\n",
              "</div>"
            ],
            "text/plain": [
              "      MPG  Cylinders  Displacement  ...  Acceleration  Model Year  Origin\n",
              "0    18.0          8         307.0  ...          12.0          70       1\n",
              "1    15.0          8         350.0  ...          11.5          70       1\n",
              "2    18.0          8         318.0  ...          11.0          70       1\n",
              "3    16.0          8         304.0  ...          12.0          70       1\n",
              "4    17.0          8         302.0  ...          10.5          70       1\n",
              "..    ...        ...           ...  ...           ...         ...     ...\n",
              "393  27.0          4         140.0  ...          15.6          82       1\n",
              "394  44.0          4          97.0  ...          24.6          82       2\n",
              "395  32.0          4         135.0  ...          11.6          82       1\n",
              "396  28.0          4         120.0  ...          18.6          82       1\n",
              "397  31.0          4         119.0  ...          19.4          82       1\n",
              "\n",
              "[398 rows x 8 columns]"
            ]
          },
          "metadata": {
            "tags": []
          },
          "execution_count": 194
        }
      ]
    },
    {
      "cell_type": "code",
      "metadata": {
        "id": "IGhScS67Ym5l"
      },
      "source": [
        "#bagımlı degisken ismini target yap\n",
        "data = data.rename(columns = {\"MPG\":\"target\"})"
      ],
      "execution_count": null,
      "outputs": []
    },
    {
      "cell_type": "code",
      "metadata": {
        "colab": {
          "base_uri": "https://localhost:8080/"
        },
        "id": "wgzFSZjyaB2x",
        "outputId": "e9965d8d-9bdd-472b-d6fa-45bb1544ac11"
      },
      "source": [
        "print(data.head())\n",
        "print(\"Data shape: \",data.shape)"
      ],
      "execution_count": null,
      "outputs": [
        {
          "output_type": "stream",
          "text": [
            "   target  Cylinders  Displacement  ...  Acceleration  Model Year  Origin\n",
            "0    18.0          8         307.0  ...          12.0          70       1\n",
            "1    15.0          8         350.0  ...          11.5          70       1\n",
            "2    18.0          8         318.0  ...          11.0          70       1\n",
            "3    16.0          8         304.0  ...          12.0          70       1\n",
            "4    17.0          8         302.0  ...          10.5          70       1\n",
            "\n",
            "[5 rows x 8 columns]\n",
            "Data shape:  (398, 8)\n"
          ],
          "name": "stdout"
        }
      ]
    },
    {
      "cell_type": "code",
      "metadata": {
        "colab": {
          "base_uri": "https://localhost:8080/"
        },
        "id": "cVrKO3p7aLqo",
        "outputId": "4fc64c68-e984-4e42-b111-60a7c765ea9d"
      },
      "source": [
        "data.info() #motor gucunde 6 missing value var"
      ],
      "execution_count": null,
      "outputs": [
        {
          "output_type": "stream",
          "text": [
            "<class 'pandas.core.frame.DataFrame'>\n",
            "RangeIndex: 398 entries, 0 to 397\n",
            "Data columns (total 8 columns):\n",
            " #   Column        Non-Null Count  Dtype  \n",
            "---  ------        --------------  -----  \n",
            " 0   target        398 non-null    float64\n",
            " 1   Cylinders     398 non-null    int64  \n",
            " 2   Displacement  398 non-null    float64\n",
            " 3   Horsepower    392 non-null    float64\n",
            " 4   Weight        398 non-null    float64\n",
            " 5   Acceleration  398 non-null    float64\n",
            " 6   Model Year    398 non-null    int64  \n",
            " 7   Origin        398 non-null    int64  \n",
            "dtypes: float64(5), int64(3)\n",
            "memory usage: 25.0 KB\n"
          ],
          "name": "stdout"
        }
      ]
    },
    {
      "cell_type": "code",
      "metadata": {
        "colab": {
          "base_uri": "https://localhost:8080/",
          "height": 284
        },
        "id": "BYtVMq7gaiLe",
        "outputId": "b7f446e1-a496-4aa0-de10-87ec61d7d70b"
      },
      "source": [
        "data.describe()"
      ],
      "execution_count": null,
      "outputs": [
        {
          "output_type": "execute_result",
          "data": {
            "text/html": [
              "<div>\n",
              "<style scoped>\n",
              "    .dataframe tbody tr th:only-of-type {\n",
              "        vertical-align: middle;\n",
              "    }\n",
              "\n",
              "    .dataframe tbody tr th {\n",
              "        vertical-align: top;\n",
              "    }\n",
              "\n",
              "    .dataframe thead th {\n",
              "        text-align: right;\n",
              "    }\n",
              "</style>\n",
              "<table border=\"1\" class=\"dataframe\">\n",
              "  <thead>\n",
              "    <tr style=\"text-align: right;\">\n",
              "      <th></th>\n",
              "      <th>target</th>\n",
              "      <th>Cylinders</th>\n",
              "      <th>Displacement</th>\n",
              "      <th>Horsepower</th>\n",
              "      <th>Weight</th>\n",
              "      <th>Acceleration</th>\n",
              "      <th>Model Year</th>\n",
              "      <th>Origin</th>\n",
              "    </tr>\n",
              "  </thead>\n",
              "  <tbody>\n",
              "    <tr>\n",
              "      <th>count</th>\n",
              "      <td>398.000000</td>\n",
              "      <td>398.000000</td>\n",
              "      <td>398.000000</td>\n",
              "      <td>392.000000</td>\n",
              "      <td>398.000000</td>\n",
              "      <td>398.000000</td>\n",
              "      <td>398.000000</td>\n",
              "      <td>398.000000</td>\n",
              "    </tr>\n",
              "    <tr>\n",
              "      <th>mean</th>\n",
              "      <td>23.514573</td>\n",
              "      <td>5.454774</td>\n",
              "      <td>193.425879</td>\n",
              "      <td>104.469388</td>\n",
              "      <td>2970.424623</td>\n",
              "      <td>15.568090</td>\n",
              "      <td>76.010050</td>\n",
              "      <td>1.572864</td>\n",
              "    </tr>\n",
              "    <tr>\n",
              "      <th>std</th>\n",
              "      <td>7.815984</td>\n",
              "      <td>1.701004</td>\n",
              "      <td>104.269838</td>\n",
              "      <td>38.491160</td>\n",
              "      <td>846.841774</td>\n",
              "      <td>2.757689</td>\n",
              "      <td>3.697627</td>\n",
              "      <td>0.802055</td>\n",
              "    </tr>\n",
              "    <tr>\n",
              "      <th>min</th>\n",
              "      <td>9.000000</td>\n",
              "      <td>3.000000</td>\n",
              "      <td>68.000000</td>\n",
              "      <td>46.000000</td>\n",
              "      <td>1613.000000</td>\n",
              "      <td>8.000000</td>\n",
              "      <td>70.000000</td>\n",
              "      <td>1.000000</td>\n",
              "    </tr>\n",
              "    <tr>\n",
              "      <th>25%</th>\n",
              "      <td>17.500000</td>\n",
              "      <td>4.000000</td>\n",
              "      <td>104.250000</td>\n",
              "      <td>75.000000</td>\n",
              "      <td>2223.750000</td>\n",
              "      <td>13.825000</td>\n",
              "      <td>73.000000</td>\n",
              "      <td>1.000000</td>\n",
              "    </tr>\n",
              "    <tr>\n",
              "      <th>50%</th>\n",
              "      <td>23.000000</td>\n",
              "      <td>4.000000</td>\n",
              "      <td>148.500000</td>\n",
              "      <td>93.500000</td>\n",
              "      <td>2803.500000</td>\n",
              "      <td>15.500000</td>\n",
              "      <td>76.000000</td>\n",
              "      <td>1.000000</td>\n",
              "    </tr>\n",
              "    <tr>\n",
              "      <th>75%</th>\n",
              "      <td>29.000000</td>\n",
              "      <td>8.000000</td>\n",
              "      <td>262.000000</td>\n",
              "      <td>126.000000</td>\n",
              "      <td>3608.000000</td>\n",
              "      <td>17.175000</td>\n",
              "      <td>79.000000</td>\n",
              "      <td>2.000000</td>\n",
              "    </tr>\n",
              "    <tr>\n",
              "      <th>max</th>\n",
              "      <td>46.600000</td>\n",
              "      <td>8.000000</td>\n",
              "      <td>455.000000</td>\n",
              "      <td>230.000000</td>\n",
              "      <td>5140.000000</td>\n",
              "      <td>24.800000</td>\n",
              "      <td>82.000000</td>\n",
              "      <td>3.000000</td>\n",
              "    </tr>\n",
              "  </tbody>\n",
              "</table>\n",
              "</div>"
            ],
            "text/plain": [
              "           target   Cylinders  ...  Model Year      Origin\n",
              "count  398.000000  398.000000  ...  398.000000  398.000000\n",
              "mean    23.514573    5.454774  ...   76.010050    1.572864\n",
              "std      7.815984    1.701004  ...    3.697627    0.802055\n",
              "min      9.000000    3.000000  ...   70.000000    1.000000\n",
              "25%     17.500000    4.000000  ...   73.000000    1.000000\n",
              "50%     23.000000    4.000000  ...   76.000000    1.000000\n",
              "75%     29.000000    8.000000  ...   79.000000    2.000000\n",
              "max     46.600000    8.000000  ...   82.000000    3.000000\n",
              "\n",
              "[8 rows x 8 columns]"
            ]
          },
          "metadata": {
            "tags": []
          },
          "execution_count": 198
        }
      ]
    },
    {
      "cell_type": "code",
      "metadata": {
        "colab": {
          "base_uri": "https://localhost:8080/"
        },
        "id": "XdptWILgMcoh",
        "outputId": "06e8c229-d2fc-4b8f-a3ee-9f84bb78f3e9"
      },
      "source": [
        "#missing value\n",
        "print(data.isna().sum())"
      ],
      "execution_count": null,
      "outputs": [
        {
          "output_type": "stream",
          "text": [
            "target          0\n",
            "Cylinders       0\n",
            "Displacement    0\n",
            "Horsepower      6\n",
            "Weight          0\n",
            "Acceleration    0\n",
            "Model Year      0\n",
            "Origin          0\n",
            "dtype: int64\n"
          ],
          "name": "stdout"
        }
      ]
    },
    {
      "cell_type": "code",
      "metadata": {
        "colab": {
          "base_uri": "https://localhost:8080/"
        },
        "id": "-CthrqVIMdbN",
        "outputId": "1a649655-5ee1-4d73-cc85-a11d218ee20c"
      },
      "source": [
        "#missing valueları Horsepower meanle doldur\n",
        "data[\"Horsepower\"] = data[\"Horsepower\"].fillna(data[\"Horsepower\"].mean())\n",
        "print(data.isna().sum())"
      ],
      "execution_count": null,
      "outputs": [
        {
          "output_type": "stream",
          "text": [
            "target          0\n",
            "Cylinders       0\n",
            "Displacement    0\n",
            "Horsepower      0\n",
            "Weight          0\n",
            "Acceleration    0\n",
            "Model Year      0\n",
            "Origin          0\n",
            "dtype: int64\n"
          ],
          "name": "stdout"
        }
      ]
    },
    {
      "cell_type": "code",
      "metadata": {
        "colab": {
          "base_uri": "https://localhost:8080/",
          "height": 296
        },
        "id": "tb2HeWMbMdeD",
        "outputId": "6f9ea1e7-33ed-43ba-c3c9-e81b3c9f513f"
      },
      "source": [
        "sns.distplot(data.Horsepower)"
      ],
      "execution_count": null,
      "outputs": [
        {
          "output_type": "execute_result",
          "data": {
            "text/plain": [
              "<matplotlib.axes._subplots.AxesSubplot at 0x7fef63296310>"
            ]
          },
          "metadata": {
            "tags": []
          },
          "execution_count": 201
        },
        {
          "output_type": "display_data",
          "data": {
            "image/png": "[encoded data removed]",
            "text/plain": [
              "<Figure size 432x288 with 1 Axes>"
            ]
          },
          "metadata": {
            "tags": [],
            "needs_background": "light"
          }
        }
      ]
    },
    {
      "cell_type": "code",
      "metadata": {
        "colab": {
          "base_uri": "https://localhost:8080/",
          "height": 742
        },
        "id": "-ZaInleCMdg7",
        "outputId": "6cfd6723-ca60-4ac4-bbb0-6fff41885b3e"
      },
      "source": [
        "#eda\n",
        "corr_matrix = data.corr() #featurelar arası corelasyona baktım\n",
        "sns.clustermap(corr_matrix, annot= True, fmt=\".2f\")\n",
        "plt.title(\"Correlation between features\")\n",
        "plt.show()"
      ],
      "execution_count": null,
      "outputs": [
        {
          "output_type": "display_data",
          "data": {
            "image/png": "[encoded data removed]",
            "text/plain": [
              "<Figure size 720x720 with 4 Axes>"
            ]
          },
          "metadata": {
            "tags": [],
            "needs_background": "light"
          }
        }
      ]
    },
    {
      "cell_type": "code",
      "metadata": {
        "id": "eVxqSk1UMdjf"
      },
      "source": [
        "#corr matrisi kucultmek icin filtre\n",
        "treshold = 0.75\n",
        "filtre = np.abs(corr_matrix[\"target\"])>treshold\n",
        "corr_features = corr_matrix.columns[filtre].tolist()"
      ],
      "execution_count": null,
      "outputs": []
    },
    {
      "cell_type": "code",
      "metadata": {
        "colab": {
          "base_uri": "https://localhost:8080/",
          "height": 733
        },
        "id": "rUvrRGlnMdmX",
        "outputId": "666dd4bf-a177-459b-cf5f-9fdda968ce20"
      },
      "source": [
        "sns.clustermap(data[corr_features].corr(), annot= True, fmt=\".2f\")\n",
        "plt.title(\"Correlation between features\")\n",
        "plt.show()"
      ],
      "execution_count": null,
      "outputs": [
        {
          "output_type": "display_data",
          "data": {
            "image/png": "[encoded data removed]",
            "text/plain": [
              "<Figure size 720x720 with 4 Axes>"
            ]
          },
          "metadata": {
            "tags": [],
            "needs_background": "light"
          }
        }
      ]
    },
    {
      "cell_type": "code",
      "metadata": {
        "colab": {
          "base_uri": "https://localhost:8080/",
          "height": 1000
        },
        "id": "TUxAV9LlMdpa",
        "outputId": "82c9dc1d-fd9e-4b7e-d8bb-264f82e38bf9"
      },
      "source": [
        "#histogram gibi kde\n",
        "sns.pairplot(data,diag_kind=\"kde\", markers=\"+\")\n",
        "plt.show()"
      ],
      "execution_count": null,
      "outputs": [
        {
          "output_type": "display_data",
          "data": {
            "image/png": "[encoded data removed]",
            "text/plain": [
              "<Figure size 1440x1440 with 72 Axes>"
            ]
          },
          "metadata": {
            "tags": [],
            "needs_background": "light"
          }
        }
      ]
    },
    {
      "cell_type": "code",
      "metadata": {
        "colab": {
          "base_uri": "https://localhost:8080/",
          "height": 380
        },
        "id": "0z3hx8w5MdsF",
        "outputId": "ed7e7f30-e30e-4093-e455-1ee0bfad2db8"
      },
      "source": [
        "plt.figure()\n",
        "sns.countplot(data[\"Cylinders\"])\n",
        "print(data[\"Cylinders\"].value_counts())"
      ],
      "execution_count": null,
      "outputs": [
        {
          "output_type": "stream",
          "text": [
            "4    204\n",
            "8    103\n",
            "6     84\n",
            "3      4\n",
            "5      3\n",
            "Name: Cylinders, dtype: int64\n"
          ],
          "name": "stdout"
        },
        {
          "output_type": "display_data",
          "data": {
            "image/png": "[encoded data removed]",
            "text/plain": [
              "<Figure size 432x288 with 1 Axes>"
            ]
          },
          "metadata": {
            "tags": [],
            "needs_background": "light"
          }
        }
      ]
    },
    {
      "cell_type": "code",
      "metadata": {
        "colab": {
          "base_uri": "https://localhost:8080/",
          "height": 346
        },
        "id": "Z_CtVnCiMdu2",
        "outputId": "847cf0b5-aba3-44f8-d3be-f9d571d8b218"
      },
      "source": [
        "plt.figure()\n",
        "sns.countplot(data[\"Origin\"])\n",
        "print(data[\"Origin\"].value_counts())\n",
        "#amerika 1, avrupa 2, japonya 3 originli araç"
      ],
      "execution_count": null,
      "outputs": [
        {
          "output_type": "stream",
          "text": [
            "1    249\n",
            "3     79\n",
            "2     70\n",
            "Name: Origin, dtype: int64\n"
          ],
          "name": "stdout"
        },
        {
          "output_type": "display_data",
          "data": {
            "image/png": "[encoded data removed]",
            "text/plain": [
              "<Figure size 432x288 with 1 Axes>"
            ]
          },
          "metadata": {
            "tags": [],
            "needs_background": "light"
          }
        }
      ]
    },
    {
      "cell_type": "code",
      "metadata": {
        "colab": {
          "base_uri": "https://localhost:8080/",
          "height": 1000
        },
        "id": "warGREo5Mdxg",
        "outputId": "90dc59e9-9aa5-4ed5-fb7c-fb9e77125831"
      },
      "source": [
        "#box plot, hp ve acc outlier\n",
        "for c in data.columns:\n",
        "  plt.figure()\n",
        "  sns.boxplot(x=c, data=data, orient=\"v\")"
      ],
      "execution_count": null,
      "outputs": [
        {
          "output_type": "display_data",
          "data": {
            "image/png": "[encoded data removed]",
            "text/plain": [
              "<Figure size 432x288 with 1 Axes>"
            ]
          },
          "metadata": {
            "tags": [],
            "needs_background": "light"
          }
        },
        {
          "output_type": "display_data",
          "data": {
            "image/png": "[encoded data removed]",
            "text/plain": [
              "<Figure size 432x288 with 1 Axes>"
            ]
          },
          "metadata": {
            "tags": [],
            "needs_background": "light"
          }
        },
        {
          "output_type": "display_data",
          "data": {
            "image/png": "[encoded data removed]",
            "text/plain": [
              "<Figure size 432x288 with 1 Axes>"
            ]
          },
          "metadata": {
            "tags": [],
            "needs_background": "light"
          }
        },
        {
          "output_type": "display_data",
          "data": {
            "image/png": "[encoded data removed]",
            "text/plain": [
              "<Figure size 432x288 with 1 Axes>"
            ]
          },
          "metadata": {
            "tags": [],
            "needs_background": "light"
          }
        },
        {
          "output_type": "display_data",
          "data": {
            "image/png": "[encoded data removed]",
            "text/plain": [
              "<Figure size 432x288 with 1 Axes>"
            ]
          },
          "metadata": {
            "tags": [],
            "needs_background": "light"
          }
        },
        {
          "output_type": "display_data",
          "data": {
            "image/png": "[encoded data removed]",
            "text/plain": [
              "<Figure size 432x288 with 1 Axes>"
            ]
          },
          "metadata": {
            "tags": [],
            "needs_background": "light"
          }
        },
        {
          "output_type": "display_data",
          "data": {
            "image/png": "[encoded data removed]",
            "text/plain": [
              "<Figure size 432x288 with 1 Axes>"
            ]
          },
          "metadata": {
            "tags": [],
            "needs_background": "light"
          }
        },
        {
          "output_type": "display_data",
          "data": {
            "image/png": "[encoded data removed]",
            "text/plain": [
              "<Figure size 432x288 with 1 Axes>"
            ]
          },
          "metadata": {
            "tags": [],
            "needs_background": "light"
          }
        }
      ]
    },
    {
      "cell_type": "code",
      "metadata": {
        "colab": {
          "base_uri": "https://localhost:8080/"
        },
        "id": "U9kO_14dMd0N",
        "outputId": "1b4a4518-f1f9-43dd-b775-de66947fe5cd"
      },
      "source": [
        "thr = 2\n",
        "desc = data.describe()\n",
        "df = pd.DataFrame(desc)\n",
        "horsepower_desc =df.iloc[:,3]\n",
        "horsepower_desc"
      ],
      "execution_count": null,
      "outputs": [
        {
          "output_type": "execute_result",
          "data": {
            "text/plain": [
              "count    398.000000\n",
              "mean     104.469388\n",
              "std       38.199187\n",
              "min       46.000000\n",
              "25%       76.000000\n",
              "50%       95.000000\n",
              "75%      125.000000\n",
              "max      230.000000\n",
              "Name: Horsepower, dtype: float64"
            ]
          },
          "metadata": {
            "tags": []
          },
          "execution_count": 209
        }
      ]
    },
    {
      "cell_type": "code",
      "metadata": {
        "colab": {
          "base_uri": "https://localhost:8080/"
        },
        "id": "VTNCmRidMd51",
        "outputId": "71ff7620-a215-48ed-ffde-c265b956410e"
      },
      "source": [
        "q3_hp = horsepower_desc[6]\n",
        "q3_hp"
      ],
      "execution_count": null,
      "outputs": [
        {
          "output_type": "execute_result",
          "data": {
            "text/plain": [
              "125.0"
            ]
          },
          "metadata": {
            "tags": []
          },
          "execution_count": 210
        }
      ]
    },
    {
      "cell_type": "code",
      "metadata": {
        "colab": {
          "base_uri": "https://localhost:8080/"
        },
        "id": "VUAOzgQ0Md8s",
        "outputId": "b2b7609f-b5c0-411d-acce-8bf9173a790d"
      },
      "source": [
        "q1_hp = horsepower_desc[4]\n",
        "q1_hp"
      ],
      "execution_count": null,
      "outputs": [
        {
          "output_type": "execute_result",
          "data": {
            "text/plain": [
              "76.0"
            ]
          },
          "metadata": {
            "tags": []
          },
          "execution_count": 211
        }
      ]
    },
    {
      "cell_type": "code",
      "metadata": {
        "id": "7Kn3JQ0yMd_G"
      },
      "source": [
        "IQR_hp =q3_hp - q1_hp"
      ],
      "execution_count": null,
      "outputs": []
    },
    {
      "cell_type": "code",
      "metadata": {
        "colab": {
          "base_uri": "https://localhost:8080/"
        },
        "id": "uLIQH8b4MeCG",
        "outputId": "9a016eff-bcc0-45bc-be2b-12c8df750796"
      },
      "source": [
        "top_limit_hp = q3_hp + thr*IQR_hp\n",
        "top_limit_hp"
      ],
      "execution_count": null,
      "outputs": [
        {
          "output_type": "execute_result",
          "data": {
            "text/plain": [
              "223.0"
            ]
          },
          "metadata": {
            "tags": []
          },
          "execution_count": 213
        }
      ]
    },
    {
      "cell_type": "code",
      "metadata": {
        "colab": {
          "base_uri": "https://localhost:8080/"
        },
        "id": "nbSiQgMjMeEz",
        "outputId": "76d6c6ed-ae91-4ac3-a424-cedbe5c1c362"
      },
      "source": [
        "bottom_limit_hp = q1_hp - thr*IQR_hp\n",
        "bottom_limit_hp"
      ],
      "execution_count": null,
      "outputs": [
        {
          "output_type": "execute_result",
          "data": {
            "text/plain": [
              "-22.0"
            ]
          },
          "metadata": {
            "tags": []
          },
          "execution_count": 214
        }
      ]
    },
    {
      "cell_type": "code",
      "metadata": {
        "id": "FXtWPY8vMeHs"
      },
      "source": [
        "filter_hp_bottom = bottom_limit_hp < data[\"Horsepower\"]"
      ],
      "execution_count": null,
      "outputs": []
    },
    {
      "cell_type": "code",
      "metadata": {
        "id": "BoxLv9_NMeKj"
      },
      "source": [
        "filter_hp_top = data[\"Horsepower\"] < top_limit_hp"
      ],
      "execution_count": null,
      "outputs": []
    },
    {
      "cell_type": "code",
      "metadata": {
        "id": "3u3aTyzBMeOK"
      },
      "source": [
        "filter_hp = filter_hp_bottom & filter_hp_top"
      ],
      "execution_count": null,
      "outputs": []
    },
    {
      "cell_type": "code",
      "metadata": {
        "colab": {
          "base_uri": "https://localhost:8080/",
          "height": 402
        },
        "id": "teE2fbNmswG7",
        "outputId": "10791ec6-c237-4634-fc7b-ee1b9d14ac19"
      },
      "source": [
        "data = data[filter_hp]\n",
        "data"
      ],
      "execution_count": null,
      "outputs": [
        {
          "output_type": "execute_result",
          "data": {
            "text/html": [
              "<div>\n",
              "<style scoped>\n",
              "    .dataframe tbody tr th:only-of-type {\n",
              "        vertical-align: middle;\n",
              "    }\n",
              "\n",
              "    .dataframe tbody tr th {\n",
              "        vertical-align: top;\n",
              "    }\n",
              "\n",
              "    .dataframe thead th {\n",
              "        text-align: right;\n",
              "    }\n",
              "</style>\n",
              "<table border=\"1\" class=\"dataframe\">\n",
              "  <thead>\n",
              "    <tr style=\"text-align: right;\">\n",
              "      <th></th>\n",
              "      <th>target</th>\n",
              "      <th>Cylinders</th>\n",
              "      <th>Displacement</th>\n",
              "      <th>Horsepower</th>\n",
              "      <th>Weight</th>\n",
              "      <th>Acceleration</th>\n",
              "      <th>Model Year</th>\n",
              "      <th>Origin</th>\n",
              "    </tr>\n",
              "  </thead>\n",
              "  <tbody>\n",
              "    <tr>\n",
              "      <th>0</th>\n",
              "      <td>18.0</td>\n",
              "      <td>8</td>\n",
              "      <td>307.0</td>\n",
              "      <td>130.0</td>\n",
              "      <td>3504.0</td>\n",
              "      <td>12.0</td>\n",
              "      <td>70</td>\n",
              "      <td>1</td>\n",
              "    </tr>\n",
              "    <tr>\n",
              "      <th>1</th>\n",
              "      <td>15.0</td>\n",
              "      <td>8</td>\n",
              "      <td>350.0</td>\n",
              "      <td>165.0</td>\n",
              "      <td>3693.0</td>\n",
              "      <td>11.5</td>\n",
              "      <td>70</td>\n",
              "      <td>1</td>\n",
              "    </tr>\n",
              "    <tr>\n",
              "      <th>2</th>\n",
              "      <td>18.0</td>\n",
              "      <td>8</td>\n",
              "      <td>318.0</td>\n",
              "      <td>150.0</td>\n",
              "      <td>3436.0</td>\n",
              "      <td>11.0</td>\n",
              "      <td>70</td>\n",
              "      <td>1</td>\n",
              "    </tr>\n",
              "    <tr>\n",
              "      <th>3</th>\n",
              "      <td>16.0</td>\n",
              "      <td>8</td>\n",
              "      <td>304.0</td>\n",
              "      <td>150.0</td>\n",
              "      <td>3433.0</td>\n",
              "      <td>12.0</td>\n",
              "      <td>70</td>\n",
              "      <td>1</td>\n",
              "    </tr>\n",
              "    <tr>\n",
              "      <th>4</th>\n",
              "      <td>17.0</td>\n",
              "      <td>8</td>\n",
              "      <td>302.0</td>\n",
              "      <td>140.0</td>\n",
              "      <td>3449.0</td>\n",
              "      <td>10.5</td>\n",
              "      <td>70</td>\n",
              "      <td>1</td>\n",
              "    </tr>\n",
              "    <tr>\n",
              "      <th>...</th>\n",
              "      <td>...</td>\n",
              "      <td>...</td>\n",
              "      <td>...</td>\n",
              "      <td>...</td>\n",
              "      <td>...</td>\n",
              "      <td>...</td>\n",
              "      <td>...</td>\n",
              "      <td>...</td>\n",
              "    </tr>\n",
              "    <tr>\n",
              "      <th>393</th>\n",
              "      <td>27.0</td>\n",
              "      <td>4</td>\n",
              "      <td>140.0</td>\n",
              "      <td>86.0</td>\n",
              "      <td>2790.0</td>\n",
              "      <td>15.6</td>\n",
              "      <td>82</td>\n",
              "      <td>1</td>\n",
              "    </tr>\n",
              "    <tr>\n",
              "      <th>394</th>\n",
              "      <td>44.0</td>\n",
              "      <td>4</td>\n",
              "      <td>97.0</td>\n",
              "      <td>52.0</td>\n",
              "      <td>2130.0</td>\n",
              "      <td>24.6</td>\n",
              "      <td>82</td>\n",
              "      <td>2</td>\n",
              "    </tr>\n",
              "    <tr>\n",
              "      <th>395</th>\n",
              "      <td>32.0</td>\n",
              "      <td>4</td>\n",
              "      <td>135.0</td>\n",
              "      <td>84.0</td>\n",
              "      <td>2295.0</td>\n",
              "      <td>11.6</td>\n",
              "      <td>82</td>\n",
              "      <td>1</td>\n",
              "    </tr>\n",
              "    <tr>\n",
              "      <th>396</th>\n",
              "      <td>28.0</td>\n",
              "      <td>4</td>\n",
              "      <td>120.0</td>\n",
              "      <td>79.0</td>\n",
              "      <td>2625.0</td>\n",
              "      <td>18.6</td>\n",
              "      <td>82</td>\n",
              "      <td>1</td>\n",
              "    </tr>\n",
              "    <tr>\n",
              "      <th>397</th>\n",
              "      <td>31.0</td>\n",
              "      <td>4</td>\n",
              "      <td>119.0</td>\n",
              "      <td>82.0</td>\n",
              "      <td>2720.0</td>\n",
              "      <td>19.4</td>\n",
              "      <td>82</td>\n",
              "      <td>1</td>\n",
              "    </tr>\n",
              "  </tbody>\n",
              "</table>\n",
              "<p>394 rows × 8 columns</p>\n",
              "</div>"
            ],
            "text/plain": [
              "     target  Cylinders  Displacement  ...  Acceleration  Model Year  Origin\n",
              "0      18.0          8         307.0  ...          12.0          70       1\n",
              "1      15.0          8         350.0  ...          11.5          70       1\n",
              "2      18.0          8         318.0  ...          11.0          70       1\n",
              "3      16.0          8         304.0  ...          12.0          70       1\n",
              "4      17.0          8         302.0  ...          10.5          70       1\n",
              "..      ...        ...           ...  ...           ...         ...     ...\n",
              "393    27.0          4         140.0  ...          15.6          82       1\n",
              "394    44.0          4          97.0  ...          24.6          82       2\n",
              "395    32.0          4         135.0  ...          11.6          82       1\n",
              "396    28.0          4         120.0  ...          18.6          82       1\n",
              "397    31.0          4         119.0  ...          19.4          82       1\n",
              "\n",
              "[394 rows x 8 columns]"
            ]
          },
          "metadata": {
            "tags": []
          },
          "execution_count": 218
        }
      ]
    },
    {
      "cell_type": "code",
      "metadata": {
        "colab": {
          "base_uri": "https://localhost:8080/"
        },
        "id": "pT7QElSXtzmT",
        "outputId": "b14d2a45-460e-4ddf-8194-a84b5b36ea31"
      },
      "source": [
        "desc = data.describe()\n",
        "df = pd.DataFrame(desc)\n",
        "acceleration_desc =df.iloc[:,5]\n",
        "acceleration_desc"
      ],
      "execution_count": null,
      "outputs": [
        {
          "output_type": "execute_result",
          "data": {
            "text/plain": [
              "count    394.000000\n",
              "mean      15.623350\n",
              "std        2.715625\n",
              "min        8.000000\n",
              "25%       14.000000\n",
              "50%       15.500000\n",
              "75%       17.200000\n",
              "max       24.800000\n",
              "Name: Acceleration, dtype: float64"
            ]
          },
          "metadata": {
            "tags": []
          },
          "execution_count": 219
        }
      ]
    },
    {
      "cell_type": "code",
      "metadata": {
        "id": "un0vuioZtzfG"
      },
      "source": [
        "q3_acc = acceleration_desc[6]\n",
        "q1_acc = acceleration_desc[4]\n",
        "IQR_acc =q3_acc - q1_acc"
      ],
      "execution_count": null,
      "outputs": []
    },
    {
      "cell_type": "code",
      "metadata": {
        "id": "Mp6Z20Bytzab"
      },
      "source": [
        "top_limit_acc = q3_acc + thr*IQR_acc\n",
        "bottom_limit_acc = q1_acc - thr*IQR_acc"
      ],
      "execution_count": null,
      "outputs": []
    },
    {
      "cell_type": "code",
      "metadata": {
        "id": "lvLMFUn8vD8R"
      },
      "source": [
        "filter_acc_bottom = bottom_limit_acc < data[\"Acceleration\"]"
      ],
      "execution_count": null,
      "outputs": []
    },
    {
      "cell_type": "code",
      "metadata": {
        "id": "Lk7qNZjvvD8e"
      },
      "source": [
        "filter_acc_top = data[\"Acceleration\"] < top_limit_acc"
      ],
      "execution_count": null,
      "outputs": []
    },
    {
      "cell_type": "code",
      "metadata": {
        "id": "YbR9kzN7vD8f"
      },
      "source": [
        "filter_acc = filter_acc_bottom & filter_acc_top"
      ],
      "execution_count": null,
      "outputs": []
    },
    {
      "cell_type": "code",
      "metadata": {
        "colab": {
          "base_uri": "https://localhost:8080/",
          "height": 402
        },
        "id": "y22BVwHCtzLC",
        "outputId": "5013349e-fd69-4e53-f1c1-619fb7fd8094"
      },
      "source": [
        "data = data[filter_acc]\n",
        "data \n",
        "#datayı bozabilecek outlierlardan kurtulduk"
      ],
      "execution_count": null,
      "outputs": [
        {
          "output_type": "execute_result",
          "data": {
            "text/html": [
              "<div>\n",
              "<style scoped>\n",
              "    .dataframe tbody tr th:only-of-type {\n",
              "        vertical-align: middle;\n",
              "    }\n",
              "\n",
              "    .dataframe tbody tr th {\n",
              "        vertical-align: top;\n",
              "    }\n",
              "\n",
              "    .dataframe thead th {\n",
              "        text-align: right;\n",
              "    }\n",
              "</style>\n",
              "<table border=\"1\" class=\"dataframe\">\n",
              "  <thead>\n",
              "    <tr style=\"text-align: right;\">\n",
              "      <th></th>\n",
              "      <th>target</th>\n",
              "      <th>Cylinders</th>\n",
              "      <th>Displacement</th>\n",
              "      <th>Horsepower</th>\n",
              "      <th>Weight</th>\n",
              "      <th>Acceleration</th>\n",
              "      <th>Model Year</th>\n",
              "      <th>Origin</th>\n",
              "    </tr>\n",
              "  </thead>\n",
              "  <tbody>\n",
              "    <tr>\n",
              "      <th>0</th>\n",
              "      <td>18.0</td>\n",
              "      <td>8</td>\n",
              "      <td>307.0</td>\n",
              "      <td>130.0</td>\n",
              "      <td>3504.0</td>\n",
              "      <td>12.0</td>\n",
              "      <td>70</td>\n",
              "      <td>1</td>\n",
              "    </tr>\n",
              "    <tr>\n",
              "      <th>1</th>\n",
              "      <td>15.0</td>\n",
              "      <td>8</td>\n",
              "      <td>350.0</td>\n",
              "      <td>165.0</td>\n",
              "      <td>3693.0</td>\n",
              "      <td>11.5</td>\n",
              "      <td>70</td>\n",
              "      <td>1</td>\n",
              "    </tr>\n",
              "    <tr>\n",
              "      <th>2</th>\n",
              "      <td>18.0</td>\n",
              "      <td>8</td>\n",
              "      <td>318.0</td>\n",
              "      <td>150.0</td>\n",
              "      <td>3436.0</td>\n",
              "      <td>11.0</td>\n",
              "      <td>70</td>\n",
              "      <td>1</td>\n",
              "    </tr>\n",
              "    <tr>\n",
              "      <th>3</th>\n",
              "      <td>16.0</td>\n",
              "      <td>8</td>\n",
              "      <td>304.0</td>\n",
              "      <td>150.0</td>\n",
              "      <td>3433.0</td>\n",
              "      <td>12.0</td>\n",
              "      <td>70</td>\n",
              "      <td>1</td>\n",
              "    </tr>\n",
              "    <tr>\n",
              "      <th>4</th>\n",
              "      <td>17.0</td>\n",
              "      <td>8</td>\n",
              "      <td>302.0</td>\n",
              "      <td>140.0</td>\n",
              "      <td>3449.0</td>\n",
              "      <td>10.5</td>\n",
              "      <td>70</td>\n",
              "      <td>1</td>\n",
              "    </tr>\n",
              "    <tr>\n",
              "      <th>...</th>\n",
              "      <td>...</td>\n",
              "      <td>...</td>\n",
              "      <td>...</td>\n",
              "      <td>...</td>\n",
              "      <td>...</td>\n",
              "      <td>...</td>\n",
              "      <td>...</td>\n",
              "      <td>...</td>\n",
              "    </tr>\n",
              "    <tr>\n",
              "      <th>392</th>\n",
              "      <td>27.0</td>\n",
              "      <td>4</td>\n",
              "      <td>151.0</td>\n",
              "      <td>90.0</td>\n",
              "      <td>2950.0</td>\n",
              "      <td>17.3</td>\n",
              "      <td>82</td>\n",
              "      <td>1</td>\n",
              "    </tr>\n",
              "    <tr>\n",
              "      <th>393</th>\n",
              "      <td>27.0</td>\n",
              "      <td>4</td>\n",
              "      <td>140.0</td>\n",
              "      <td>86.0</td>\n",
              "      <td>2790.0</td>\n",
              "      <td>15.6</td>\n",
              "      <td>82</td>\n",
              "      <td>1</td>\n",
              "    </tr>\n",
              "    <tr>\n",
              "      <th>395</th>\n",
              "      <td>32.0</td>\n",
              "      <td>4</td>\n",
              "      <td>135.0</td>\n",
              "      <td>84.0</td>\n",
              "      <td>2295.0</td>\n",
              "      <td>11.6</td>\n",
              "      <td>82</td>\n",
              "      <td>1</td>\n",
              "    </tr>\n",
              "    <tr>\n",
              "      <th>396</th>\n",
              "      <td>28.0</td>\n",
              "      <td>4</td>\n",
              "      <td>120.0</td>\n",
              "      <td>79.0</td>\n",
              "      <td>2625.0</td>\n",
              "      <td>18.6</td>\n",
              "      <td>82</td>\n",
              "      <td>1</td>\n",
              "    </tr>\n",
              "    <tr>\n",
              "      <th>397</th>\n",
              "      <td>31.0</td>\n",
              "      <td>4</td>\n",
              "      <td>119.0</td>\n",
              "      <td>82.0</td>\n",
              "      <td>2720.0</td>\n",
              "      <td>19.4</td>\n",
              "      <td>82</td>\n",
              "      <td>1</td>\n",
              "    </tr>\n",
              "  </tbody>\n",
              "</table>\n",
              "<p>391 rows × 8 columns</p>\n",
              "</div>"
            ],
            "text/plain": [
              "     target  Cylinders  Displacement  ...  Acceleration  Model Year  Origin\n",
              "0      18.0          8         307.0  ...          12.0          70       1\n",
              "1      15.0          8         350.0  ...          11.5          70       1\n",
              "2      18.0          8         318.0  ...          11.0          70       1\n",
              "3      16.0          8         304.0  ...          12.0          70       1\n",
              "4      17.0          8         302.0  ...          10.5          70       1\n",
              "..      ...        ...           ...  ...           ...         ...     ...\n",
              "392    27.0          4         151.0  ...          17.3          82       1\n",
              "393    27.0          4         140.0  ...          15.6          82       1\n",
              "395    32.0          4         135.0  ...          11.6          82       1\n",
              "396    28.0          4         120.0  ...          18.6          82       1\n",
              "397    31.0          4         119.0  ...          19.4          82       1\n",
              "\n",
              "[391 rows x 8 columns]"
            ]
          },
          "metadata": {
            "tags": []
          },
          "execution_count": 225
        }
      ]
    },
    {
      "cell_type": "code",
      "metadata": {
        "colab": {
          "base_uri": "https://localhost:8080/",
          "height": 296
        },
        "id": "V0G_cCw0tzG6",
        "outputId": "418b8dc6-55d2-437d-9b00-2a5b83931302"
      },
      "source": [
        "#skewness\n",
        "#target dependent variable\n",
        "sns.distplot(data.target, fit=norm) #pozitif skewness kuyruk sagda"
      ],
      "execution_count": null,
      "outputs": [
        {
          "output_type": "execute_result",
          "data": {
            "text/plain": [
              "<matplotlib.axes._subplots.AxesSubplot at 0x7fef61ba6d50>"
            ]
          },
          "metadata": {
            "tags": []
          },
          "execution_count": 226
        },
        {
          "output_type": "display_data",
          "data": {
            "image/png": "[encoded data removed]",
            "text/plain": [
              "<Figure size 432x288 with 1 Axes>"
            ]
          },
          "metadata": {
            "tags": [],
            "needs_background": "light"
          }
        }
      ]
    },
    {
      "cell_type": "code",
      "metadata": {
        "colab": {
          "base_uri": "https://localhost:8080/"
        },
        "id": "VHCTa6O-tzC3",
        "outputId": "652243c1-9be5-42ef-cfa3-8705d3f41117"
      },
      "source": [
        "(mu, sigma) = norm.fit(data[\"target\"]) #mu mean, sigma standsapma\n",
        "print(\"mu: {}, sigma = {}\".format(mu, sigma))"
      ],
      "execution_count": null,
      "outputs": [
        {
          "output_type": "stream",
          "text": [
            "mu: 23.499232736572893, sigma = 7.678599778082707\n"
          ],
          "name": "stdout"
        }
      ]
    },
    {
      "cell_type": "code",
      "metadata": {
        "colab": {
          "base_uri": "https://localhost:8080/",
          "height": 312
        },
        "id": "fd9_b74wty-b",
        "outputId": "1e58373b-9e74-404c-da0f-30ccd1ba24bb"
      },
      "source": [
        "#qq plot\n",
        "plt.figure()\n",
        "stats.probplot(data[\"target\"], plot=plt)\n",
        "plt.show"
      ],
      "execution_count": null,
      "outputs": [
        {
          "output_type": "execute_result",
          "data": {
            "text/plain": [
              "<function matplotlib.pyplot.show>"
            ]
          },
          "metadata": {
            "tags": []
          },
          "execution_count": 228
        },
        {
          "output_type": "display_data",
          "data": {
            "image/png": "[encoded data removed]",
            "text/plain": [
              "<Figure size 432x288 with 1 Axes>"
            ]
          },
          "metadata": {
            "tags": [],
            "needs_background": "light"
          }
        }
      ]
    },
    {
      "cell_type": "code",
      "metadata": {
        "id": "W3mGODXvty6Y"
      },
      "source": [
        "data[\"target\"] = np.log1p(data[\"target\"]) #skewness azaltmak için log transform"
      ],
      "execution_count": null,
      "outputs": []
    },
    {
      "cell_type": "code",
      "metadata": {
        "colab": {
          "base_uri": "https://localhost:8080/",
          "height": 296
        },
        "id": "0ZIkwNj9ty2M",
        "outputId": "4835a865-ecbd-4e95-9459-a79879723d32"
      },
      "source": [
        "plt.figure()\n",
        "sns.distplot(data.target, fit = norm)"
      ],
      "execution_count": null,
      "outputs": [
        {
          "output_type": "execute_result",
          "data": {
            "text/plain": [
              "<matplotlib.axes._subplots.AxesSubplot at 0x7fef61acd590>"
            ]
          },
          "metadata": {
            "tags": []
          },
          "execution_count": 230
        },
        {
          "output_type": "display_data",
          "data": {
            "image/png": "[encoded data removed]",
            "text/plain": [
              "<Figure size 432x288 with 1 Axes>"
            ]
          },
          "metadata": {
            "tags": [],
            "needs_background": "light"
          }
        }
      ]
    },
    {
      "cell_type": "code",
      "metadata": {
        "colab": {
          "base_uri": "https://localhost:8080/"
        },
        "id": "jOxLkIZjtyvJ",
        "outputId": "4d36b1a6-7b2d-448b-c1db-baba4e489521"
      },
      "source": [
        "(mu, sigma) = norm.fit(data[\"target\"]) \n",
        "print(\"mu: {}, sigma = {}\".format(mu, sigma))"
      ],
      "execution_count": null,
      "outputs": [
        {
          "output_type": "stream",
          "text": [
            "mu: 3.148549778053243, sigma = 0.3198679276869635\n"
          ],
          "name": "stdout"
        }
      ]
    },
    {
      "cell_type": "code",
      "metadata": {
        "colab": {
          "base_uri": "https://localhost:8080/",
          "height": 312
        },
        "id": "_KKJNQLmtyk4",
        "outputId": "30872cc5-3aa3-4a27-9f25-3824f55c8096"
      },
      "source": [
        "#qq plot\n",
        "plt.figure()\n",
        "stats.probplot(data[\"target\"], plot=plt)\n",
        "plt.show"
      ],
      "execution_count": null,
      "outputs": [
        {
          "output_type": "execute_result",
          "data": {
            "text/plain": [
              "<function matplotlib.pyplot.show>"
            ]
          },
          "metadata": {
            "tags": []
          },
          "execution_count": 232
        },
        {
          "output_type": "display_data",
          "data": {
            "image/png": "[encoded data removed]",
            "text/plain": [
              "<Figure size 432x288 with 1 Axes>"
            ]
          },
          "metadata": {
            "tags": [],
            "needs_background": "light"
          }
        }
      ]
    },
    {
      "cell_type": "code",
      "metadata": {
        "colab": {
          "base_uri": "https://localhost:8080/",
          "height": 284
        },
        "id": "iDUNj7gT2Tis",
        "outputId": "a24c07b9-da5b-4afd-89c3-6595bf4e46ef"
      },
      "source": [
        "#skewness\n",
        "#feature : independent variables\n",
        "skewed_feats = data.apply(lambda x: skew(x.dropna())).sort_values(ascending = False)\n",
        "skewness = pd.DataFrame(skewed_feats, columns = [\"skewed\"])\n",
        "skewness"
      ],
      "execution_count": null,
      "outputs": [
        {
          "output_type": "execute_result",
          "data": {
            "text/html": [
              "<div>\n",
              "<style scoped>\n",
              "    .dataframe tbody tr th:only-of-type {\n",
              "        vertical-align: middle;\n",
              "    }\n",
              "\n",
              "    .dataframe tbody tr th {\n",
              "        vertical-align: top;\n",
              "    }\n",
              "\n",
              "    .dataframe thead th {\n",
              "        text-align: right;\n",
              "    }\n",
              "</style>\n",
              "<table border=\"1\" class=\"dataframe\">\n",
              "  <thead>\n",
              "    <tr style=\"text-align: right;\">\n",
              "      <th></th>\n",
              "      <th>skewed</th>\n",
              "    </tr>\n",
              "  </thead>\n",
              "  <tbody>\n",
              "    <tr>\n",
              "      <th>Horsepower</th>\n",
              "      <td>1.002620</td>\n",
              "    </tr>\n",
              "    <tr>\n",
              "      <th>Origin</th>\n",
              "      <td>0.915147</td>\n",
              "    </tr>\n",
              "    <tr>\n",
              "      <th>Displacement</th>\n",
              "      <td>0.692506</td>\n",
              "    </tr>\n",
              "    <tr>\n",
              "      <th>Cylinders</th>\n",
              "      <td>0.539419</td>\n",
              "    </tr>\n",
              "    <tr>\n",
              "      <th>Weight</th>\n",
              "      <td>0.530167</td>\n",
              "    </tr>\n",
              "    <tr>\n",
              "      <th>Acceleration</th>\n",
              "      <td>0.144566</td>\n",
              "    </tr>\n",
              "    <tr>\n",
              "      <th>Model Year</th>\n",
              "      <td>0.010762</td>\n",
              "    </tr>\n",
              "    <tr>\n",
              "      <th>target</th>\n",
              "      <td>-0.134213</td>\n",
              "    </tr>\n",
              "  </tbody>\n",
              "</table>\n",
              "</div>"
            ],
            "text/plain": [
              "                skewed\n",
              "Horsepower    1.002620\n",
              "Origin        0.915147\n",
              "Displacement  0.692506\n",
              "Cylinders     0.539419\n",
              "Weight        0.530167\n",
              "Acceleration  0.144566\n",
              "Model Year    0.010762\n",
              "target       -0.134213"
            ]
          },
          "metadata": {
            "tags": []
          },
          "execution_count": 233
        }
      ]
    },
    {
      "cell_type": "code",
      "metadata": {
        "colab": {
          "base_uri": "https://localhost:8080/",
          "height": 402
        },
        "id": "MJvA6M6v2TgP",
        "outputId": "e389b09f-d37e-4f0d-c568-7709357d0f19"
      },
      "source": [
        "#one hot encoding\n",
        "data[\"Cylinders\"] = data[\"Cylinders\"].astype(str)\n",
        "data[\"Origin\"] = data[\"Origin\"].astype(str)\n",
        "data = pd.get_dummies(data)\n",
        "data"
      ],
      "execution_count": null,
      "outputs": [
        {
          "output_type": "execute_result",
          "data": {
            "text/html": [
              "<div>\n",
              "<style scoped>\n",
              "    .dataframe tbody tr th:only-of-type {\n",
              "        vertical-align: middle;\n",
              "    }\n",
              "\n",
              "    .dataframe tbody tr th {\n",
              "        vertical-align: top;\n",
              "    }\n",
              "\n",
              "    .dataframe thead th {\n",
              "        text-align: right;\n",
              "    }\n",
              "</style>\n",
              "<table border=\"1\" class=\"dataframe\">\n",
              "  <thead>\n",
              "    <tr style=\"text-align: right;\">\n",
              "      <th></th>\n",
              "      <th>target</th>\n",
              "      <th>Displacement</th>\n",
              "      <th>Horsepower</th>\n",
              "      <th>Weight</th>\n",
              "      <th>Acceleration</th>\n",
              "      <th>Model Year</th>\n",
              "      <th>Cylinders_3</th>\n",
              "      <th>Cylinders_4</th>\n",
              "      <th>Cylinders_5</th>\n",
              "      <th>Cylinders_6</th>\n",
              "      <th>Cylinders_8</th>\n",
              "      <th>Origin_1</th>\n",
              "      <th>Origin_2</th>\n",
              "      <th>Origin_3</th>\n",
              "    </tr>\n",
              "  </thead>\n",
              "  <tbody>\n",
              "    <tr>\n",
              "      <th>0</th>\n",
              "      <td>2.944439</td>\n",
              "      <td>307.0</td>\n",
              "      <td>130.0</td>\n",
              "      <td>3504.0</td>\n",
              "      <td>12.0</td>\n",
              "      <td>70</td>\n",
              "      <td>0</td>\n",
              "      <td>0</td>\n",
              "      <td>0</td>\n",
              "      <td>0</td>\n",
              "      <td>1</td>\n",
              "      <td>1</td>\n",
              "      <td>0</td>\n",
              "      <td>0</td>\n",
              "    </tr>\n",
              "    <tr>\n",
              "      <th>1</th>\n",
              "      <td>2.772589</td>\n",
              "      <td>350.0</td>\n",
              "      <td>165.0</td>\n",
              "      <td>3693.0</td>\n",
              "      <td>11.5</td>\n",
              "      <td>70</td>\n",
              "      <td>0</td>\n",
              "      <td>0</td>\n",
              "      <td>0</td>\n",
              "      <td>0</td>\n",
              "      <td>1</td>\n",
              "      <td>1</td>\n",
              "      <td>0</td>\n",
              "      <td>0</td>\n",
              "    </tr>\n",
              "    <tr>\n",
              "      <th>2</th>\n",
              "      <td>2.944439</td>\n",
              "      <td>318.0</td>\n",
              "      <td>150.0</td>\n",
              "      <td>3436.0</td>\n",
              "      <td>11.0</td>\n",
              "      <td>70</td>\n",
              "      <td>0</td>\n",
              "      <td>0</td>\n",
              "      <td>0</td>\n",
              "      <td>0</td>\n",
              "      <td>1</td>\n",
              "      <td>1</td>\n",
              "      <td>0</td>\n",
              "      <td>0</td>\n",
              "    </tr>\n",
              "    <tr>\n",
              "      <th>3</th>\n",
              "      <td>2.833213</td>\n",
              "      <td>304.0</td>\n",
              "      <td>150.0</td>\n",
              "      <td>3433.0</td>\n",
              "      <td>12.0</td>\n",
              "      <td>70</td>\n",
              "      <td>0</td>\n",
              "      <td>0</td>\n",
              "      <td>0</td>\n",
              "      <td>0</td>\n",
              "      <td>1</td>\n",
              "      <td>1</td>\n",
              "      <td>0</td>\n",
              "      <td>0</td>\n",
              "    </tr>\n",
              "    <tr>\n",
              "      <th>4</th>\n",
              "      <td>2.890372</td>\n",
              "      <td>302.0</td>\n",
              "      <td>140.0</td>\n",
              "      <td>3449.0</td>\n",
              "      <td>10.5</td>\n",
              "      <td>70</td>\n",
              "      <td>0</td>\n",
              "      <td>0</td>\n",
              "      <td>0</td>\n",
              "      <td>0</td>\n",
              "      <td>1</td>\n",
              "      <td>1</td>\n",
              "      <td>0</td>\n",
              "      <td>0</td>\n",
              "    </tr>\n",
              "    <tr>\n",
              "      <th>...</th>\n",
              "      <td>...</td>\n",
              "      <td>...</td>\n",
              "      <td>...</td>\n",
              "      <td>...</td>\n",
              "      <td>...</td>\n",
              "      <td>...</td>\n",
              "      <td>...</td>\n",
              "      <td>...</td>\n",
              "      <td>...</td>\n",
              "      <td>...</td>\n",
              "      <td>...</td>\n",
              "      <td>...</td>\n",
              "      <td>...</td>\n",
              "      <td>...</td>\n",
              "    </tr>\n",
              "    <tr>\n",
              "      <th>392</th>\n",
              "      <td>3.332205</td>\n",
              "      <td>151.0</td>\n",
              "      <td>90.0</td>\n",
              "      <td>2950.0</td>\n",
              "      <td>17.3</td>\n",
              "      <td>82</td>\n",
              "      <td>0</td>\n",
              "      <td>1</td>\n",
              "      <td>0</td>\n",
              "      <td>0</td>\n",
              "      <td>0</td>\n",
              "      <td>1</td>\n",
              "      <td>0</td>\n",
              "      <td>0</td>\n",
              "    </tr>\n",
              "    <tr>\n",
              "      <th>393</th>\n",
              "      <td>3.332205</td>\n",
              "      <td>140.0</td>\n",
              "      <td>86.0</td>\n",
              "      <td>2790.0</td>\n",
              "      <td>15.6</td>\n",
              "      <td>82</td>\n",
              "      <td>0</td>\n",
              "      <td>1</td>\n",
              "      <td>0</td>\n",
              "      <td>0</td>\n",
              "      <td>0</td>\n",
              "      <td>1</td>\n",
              "      <td>0</td>\n",
              "      <td>0</td>\n",
              "    </tr>\n",
              "    <tr>\n",
              "      <th>395</th>\n",
              "      <td>3.496508</td>\n",
              "      <td>135.0</td>\n",
              "      <td>84.0</td>\n",
              "      <td>2295.0</td>\n",
              "      <td>11.6</td>\n",
              "      <td>82</td>\n",
              "      <td>0</td>\n",
              "      <td>1</td>\n",
              "      <td>0</td>\n",
              "      <td>0</td>\n",
              "      <td>0</td>\n",
              "      <td>1</td>\n",
              "      <td>0</td>\n",
              "      <td>0</td>\n",
              "    </tr>\n",
              "    <tr>\n",
              "      <th>396</th>\n",
              "      <td>3.367296</td>\n",
              "      <td>120.0</td>\n",
              "      <td>79.0</td>\n",
              "      <td>2625.0</td>\n",
              "      <td>18.6</td>\n",
              "      <td>82</td>\n",
              "      <td>0</td>\n",
              "      <td>1</td>\n",
              "      <td>0</td>\n",
              "      <td>0</td>\n",
              "      <td>0</td>\n",
              "      <td>1</td>\n",
              "      <td>0</td>\n",
              "      <td>0</td>\n",
              "    </tr>\n",
              "    <tr>\n",
              "      <th>397</th>\n",
              "      <td>3.465736</td>\n",
              "      <td>119.0</td>\n",
              "      <td>82.0</td>\n",
              "      <td>2720.0</td>\n",
              "      <td>19.4</td>\n",
              "      <td>82</td>\n",
              "      <td>0</td>\n",
              "      <td>1</td>\n",
              "      <td>0</td>\n",
              "      <td>0</td>\n",
              "      <td>0</td>\n",
              "      <td>1</td>\n",
              "      <td>0</td>\n",
              "      <td>0</td>\n",
              "    </tr>\n",
              "  </tbody>\n",
              "</table>\n",
              "<p>391 rows × 14 columns</p>\n",
              "</div>"
            ],
            "text/plain": [
              "       target  Displacement  Horsepower  ...  Origin_1  Origin_2  Origin_3\n",
              "0    2.944439         307.0       130.0  ...         1         0         0\n",
              "1    2.772589         350.0       165.0  ...         1         0         0\n",
              "2    2.944439         318.0       150.0  ...         1         0         0\n",
              "3    2.833213         304.0       150.0  ...         1         0         0\n",
              "4    2.890372         302.0       140.0  ...         1         0         0\n",
              "..        ...           ...         ...  ...       ...       ...       ...\n",
              "392  3.332205         151.0        90.0  ...         1         0         0\n",
              "393  3.332205         140.0        86.0  ...         1         0         0\n",
              "395  3.496508         135.0        84.0  ...         1         0         0\n",
              "396  3.367296         120.0        79.0  ...         1         0         0\n",
              "397  3.465736         119.0        82.0  ...         1         0         0\n",
              "\n",
              "[391 rows x 14 columns]"
            ]
          },
          "metadata": {
            "tags": []
          },
          "execution_count": 234
        }
      ]
    },
    {
      "cell_type": "code",
      "metadata": {
        "id": "Vnvku7uw2Tc2"
      },
      "source": [
        "#split\n",
        "x = data.drop([\"target\"], axis=1) #bagımsız degiskenler\n",
        "y = data.target #bagımlı degisken"
      ],
      "execution_count": null,
      "outputs": []
    },
    {
      "cell_type": "code",
      "metadata": {
        "id": "5ikU_Rvd2TaR"
      },
      "source": [
        "test_size = 0.9\n",
        "X_train, X_test, Y_train, Y_test = train_test_split(x,y, test_size = test_size, random_state = 42)"
      ],
      "execution_count": null,
      "outputs": []
    },
    {
      "cell_type": "code",
      "metadata": {
        "id": "t8D-aToB2TXF"
      },
      "source": [
        "#Standardization\n",
        "scaler = StandardScaler()\n",
        "X_train = scaler.fit_transform(X_train)\n",
        "X_test = scaler.transform(X_test)"
      ],
      "execution_count": null,
      "outputs": []
    },
    {
      "cell_type": "code",
      "metadata": {
        "colab": {
          "base_uri": "https://localhost:8080/"
        },
        "id": "gk8pgXFCJG8M",
        "outputId": "315aadda-cdf4-4112-bdc9-e439407dc4a0"
      },
      "source": [
        "X_train"
      ],
      "execution_count": null,
      "outputs": [
        {
          "output_type": "execute_result",
          "data": {
            "text/plain": [
              "array([[-1.04746929, -0.89137142, -1.26160347,  1.6460879 , -1.43327846,\n",
              "         0.        ,  0.87904907, -0.23249528, -0.66666667, -0.28867513,\n",
              "         0.74833148, -0.58722022, -0.3380617 ],\n",
              "       [-1.08827978, -0.64994122, -1.0955266 , -0.79487895, -1.43327846,\n",
              "         0.        ,  0.87904907, -0.23249528, -0.66666667, -0.28867513,\n",
              "        -1.33630621,  1.70293864, -0.3380617 ],\n",
              "       [-0.65296787, -0.16708082,  0.25120577,  0.22219057, -0.3318428 ,\n",
              "         0.        ,  0.87904907, -0.23249528, -0.66666667, -0.28867513,\n",
              "        -1.33630621,  1.70293864, -0.3380617 ],\n",
              "       [ 0.43531191, -0.44874938,  0.3342442 ,  0.46628726, -0.05648388,\n",
              "         0.        , -1.13759292, -0.23249528,  1.5       , -0.28867513,\n",
              "         0.74833148, -0.58722022, -0.3380617 ],\n",
              "       [-0.44891541, -0.32803428, -0.74827498, -1.9746796 ,  1.59566961,\n",
              "         0.        ,  0.87904907, -0.23249528, -0.66666667, -0.28867513,\n",
              "         0.74833148, -0.58722022, -0.3380617 ],\n",
              "       [ 0.77539934,  0.31577958,  0.66790772, -0.42873392, -0.05648388,\n",
              "         0.        , -1.13759292, -0.23249528,  1.5       , -0.28867513,\n",
              "         0.74833148, -0.58722022, -0.3380617 ],\n",
              "       [-0.66657136,  0.19506448, -0.37082757,  0.22219057, -0.3318428 ,\n",
              "         0.        ,  0.87904907, -0.23249528, -0.66666667, -0.28867513,\n",
              "        -1.33630621, -0.58722022,  2.95803989],\n",
              "       [-0.38089792, -0.08660408, -0.57766875,  1.2392601 , -1.15791954,\n",
              "         0.        ,  0.87904907, -0.23249528, -0.66666667, -0.28867513,\n",
              "         0.74833148, -0.58722022, -0.3380617 ],\n",
              "       [-0.70738186, -0.08660408, -1.0079588 , -0.99829285, -1.43327846,\n",
              "         0.        ,  0.87904907, -0.23249528, -0.66666667, -0.28867513,\n",
              "        -1.33630621,  1.70293864, -0.3380617 ],\n",
              "       [-0.85702033, -1.17303998, -0.86905816, -0.63214783,  1.3203107 ,\n",
              "         0.        ,  0.87904907, -0.23249528, -0.66666667, -0.28867513,\n",
              "         0.74833148, -0.58722022, -0.3380617 ],\n",
              "       [-0.9658483 , -1.01208652, -1.21630978, -0.02190611,  0.21887504,\n",
              "         0.        ,  0.87904907, -0.23249528, -0.66666667, -0.28867513,\n",
              "        -1.33630621, -0.58722022,  2.95803989],\n",
              "       [ 0.77539934,  0.31577958,  0.96533628,  0.30355613,  0.49423395,\n",
              "         0.        , -1.13759292, -0.23249528,  1.5       , -0.28867513,\n",
              "         0.74833148, -0.58722022, -0.3380617 ],\n",
              "       [-0.63936437,  0.83887835, -0.84037215, -1.60853457, -1.70863737,\n",
              "         0.        ,  0.87904907, -0.23249528, -0.66666667, -0.28867513,\n",
              "        -1.33630621,  1.70293864, -0.3380617 ],\n",
              "       [-0.46251891, -0.08660408, -0.12020248, -0.38805114,  1.04495178,\n",
              "         0.        ,  0.87904907, -0.23249528, -0.66666667, -0.28867513,\n",
              "        -1.33630621, -0.58722022,  2.95803989],\n",
              "       [ 0.85702033,  0.71816325,  0.37500852, -0.59146505, -0.3318428 ,\n",
              "         0.        , -1.13759292, -0.23249528,  1.5       , -0.28867513,\n",
              "         0.74833148, -0.58722022, -0.3380617 ],\n",
              "       [ 0.85702033,  0.91935508,  0.68602519, -0.42873392,  0.76959287,\n",
              "         0.        , -1.13759292, -0.23249528,  1.5       , -0.28867513,\n",
              "         0.74833148, -0.58722022, -0.3380617 ],\n",
              "       [-1.12909027, -1.61566202, -1.14082029,  2.33769518, -0.05648388,\n",
              "         0.        ,  0.87904907, -0.23249528, -0.66666667, -0.28867513,\n",
              "         0.74833148, -0.58722022, -0.3380617 ],\n",
              "       [ 0.20405246, -0.60970285,  1.11631525,  1.48335678,  0.76959287,\n",
              "         0.        , -1.13759292,  4.30116263, -0.66666667, -0.28867513,\n",
              "        -1.33630621,  1.70293864, -0.3380617 ],\n",
              "       [-1.04746929, -0.97184815, -1.21630978, -0.18463724,  1.3203107 ,\n",
              "         0.        ,  0.87904907, -0.23249528, -0.66666667, -0.28867513,\n",
              "        -1.33630621, -0.58722022,  2.95803989],\n",
              "       [ 1.22431475,  1.12054692,  0.93514049, -0.55078226,  0.49423395,\n",
              "         0.        , -1.13759292, -0.23249528,  1.5       , -0.28867513,\n",
              "         0.74833148, -0.58722022, -0.3380617 ],\n",
              "       [-0.23125945, -0.08660408, -0.17002554,  0.01877667,  1.04495178,\n",
              "         0.        ,  0.87904907, -0.23249528, -0.66666667, -0.28867513,\n",
              "         0.74833148, -0.58722022, -0.3380617 ],\n",
              "       [ 1.11548677,  0.51697142,  1.00912018, -0.18463724, -0.3318428 ,\n",
              "         0.        , -1.13759292, -0.23249528,  1.5       , -0.28867513,\n",
              "         0.74833148, -0.58722022, -0.3380617 ],\n",
              "       [ 1.22431475,  0.71816325,  1.27031379,  0.62901838, -0.60720171,\n",
              "         0.        , -1.13759292, -0.23249528,  1.5       , -0.28867513,\n",
              "         0.74833148, -0.58722022, -0.3380617 ],\n",
              "       [ 1.11548677, -0.81089468,  0.55467349,  1.2392601 , -0.3318428 ,\n",
              "         0.        , -1.13759292, -0.23249528,  1.5       , -0.28867513,\n",
              "         0.74833148, -0.58722022, -0.3380617 ],\n",
              "       [ 0.43531191, -0.16708082,  0.40671411,  0.26287335,  1.3203107 ,\n",
              "         0.        , -1.13759292, -0.23249528,  1.5       , -0.28867513,\n",
              "         0.74833148, -0.58722022, -0.3380617 ],\n",
              "       [-0.9658483 , -1.85709222, -1.26915241,  1.84950181, -0.88256063,\n",
              "         0.        ,  0.87904907, -0.23249528, -0.66666667, -0.28867513,\n",
              "        -1.33630621,  1.70293864, -0.3380617 ],\n",
              "       [-0.85702033, -1.17303998, -1.00493922, -0.71351339,  1.59566961,\n",
              "         0.        ,  0.87904907, -0.23249528, -0.66666667, -0.28867513,\n",
              "         0.74833148, -0.58722022, -0.3380617 ],\n",
              "       [ 2.04052458,  2.32769792,  1.48923329, -1.60853457, -0.88256063,\n",
              "         0.        , -1.13759292, -0.23249528, -0.66666667,  3.46410162,\n",
              "         0.74833148, -0.58722022, -0.3380617 ],\n",
              "       [-0.38089792,  0.49562045,  0.17269671, -0.87624451,  1.04495178,\n",
              "         0.        ,  0.87904907, -0.23249528, -0.66666667, -0.28867513,\n",
              "         0.74833148, -0.58722022, -0.3380617 ],\n",
              "       [-1.21071125, -1.37423182, -1.45787612,  0.87311507,  0.21887504,\n",
              "         0.        ,  0.87904907, -0.23249528, -0.66666667, -0.28867513,\n",
              "        -1.33630621,  1.70293864, -0.3380617 ],\n",
              "       [ 0.40810492,  0.11458775,  0.47012527,  0.01877667, -0.60720171,\n",
              "         0.        , -1.13759292, -0.23249528,  1.5       , -0.28867513,\n",
              "         0.74833148, -0.58722022, -0.3380617 ],\n",
              "       [-0.66657136, -0.40851102, -0.10661438,  1.19857731,  1.59566961,\n",
              "         0.        ,  0.87904907, -0.23249528, -0.66666667, -0.28867513,\n",
              "         0.74833148, -0.58722022, -0.3380617 ],\n",
              "       [-0.87062382,  0.11458775, -0.62749181,  0.42560448, -1.70863737,\n",
              "         0.        ,  0.87904907, -0.23249528, -0.66666667, -0.28867513,\n",
              "        -1.33630621,  1.70293864, -0.3380617 ],\n",
              "       [ 1.11548677,  0.51697142,  0.84908248, -0.79487895, -0.05648388,\n",
              "         0.        , -1.13759292, -0.23249528,  1.5       , -0.28867513,\n",
              "         0.74833148, -0.58722022, -0.3380617 ],\n",
              "       [ 1.89088612,  1.52293058,  1.97387577, -0.99829285, -1.15791954,\n",
              "         0.        , -1.13759292, -0.23249528, -0.66666667,  3.46410162,\n",
              "         0.74833148, -0.58722022, -0.3380617 ],\n",
              "       [-0.38089792, -0.81089468, -0.58823728,  1.2392601 , -0.88256063,\n",
              "         0.        ,  0.87904907, -0.23249528, -0.66666667, -0.28867513,\n",
              "         0.74833148, -0.58722022, -0.3380617 ],\n",
              "       [-0.5033294 ,  0.43649468,  0.05946249, -0.22532002,  0.49423395,\n",
              "         0.        , -1.13759292,  4.30116263, -0.66666667, -0.28867513,\n",
              "        -1.33630621,  1.70293864, -0.3380617 ],\n",
              "       [-0.92503781,  0.49562045, -0.71053024, -0.2660028 ,  1.3203107 ,\n",
              "         0.        ,  0.87904907, -0.23249528, -0.66666667, -0.28867513,\n",
              "        -1.33630621,  1.70293864, -0.3380617 ],\n",
              "       [ 2.61187147,  3.13246525,  2.81331882, -1.40512066, -0.88256063,\n",
              "         0.        , -1.13759292, -0.23249528, -0.66666667,  3.46410162,\n",
              "         0.74833148, -0.58722022, -0.3380617 ]])"
            ]
          },
          "metadata": {
            "tags": []
          },
          "execution_count": 238
        }
      ]
    },
    {
      "cell_type": "code",
      "metadata": {
        "colab": {
          "base_uri": "https://localhost:8080/"
        },
        "id": "LWKtuYRpJGqa",
        "outputId": "026f2996-4117-4cca-eb71-db049b2fe278"
      },
      "source": [
        "X_test"
      ],
      "execution_count": null,
      "outputs": [
        {
          "output_type": "execute_result",
          "data": {
            "text/plain": [
              "array([[ 2.9247519 ,  3.13246525,  1.1661383 , ...,  0.74833148,\n",
              "        -0.58722022, -0.3380617 ],\n",
              "       [ 3.15601136,  3.33365708,  3.5470766 , ...,  0.74833148,\n",
              "        -0.58722022, -0.3380617 ],\n",
              "       [ 1.11548677,  0.31577958,  0.81284752, ...,  0.74833148,\n",
              "        -0.58722022, -0.3380617 ],\n",
              "       ...,\n",
              "       [-0.65296787, -0.16708082, -0.95209659, ..., -1.33630621,\n",
              "        -0.58722022,  2.95803989],\n",
              "       [-1.12909027, -1.09256325, -1.02758607, ..., -1.33630621,\n",
              "        -0.58722022,  2.95803989],\n",
              "       [-1.12909027, -0.89137142, -1.08797766, ..., -1.33630621,\n",
              "        -0.58722022,  2.95803989]])"
            ]
          },
          "metadata": {
            "tags": []
          },
          "execution_count": 239
        }
      ]
    },
    {
      "cell_type": "markdown",
      "metadata": {
        "id": "ikiLun78yc3e"
      },
      "source": [
        "Regression Models"
      ]
    },
    {
      "cell_type": "markdown",
      "metadata": {
        "id": "Pzh_jINfyhVW"
      },
      "source": [
        "Linear regression"
      ]
    },
    {
      "cell_type": "code",
      "metadata": {
        "id": "9NG2jqPLJP_0"
      },
      "source": [
        "lr = LinearRegression()"
      ],
      "execution_count": null,
      "outputs": []
    },
    {
      "cell_type": "code",
      "metadata": {
        "colab": {
          "base_uri": "https://localhost:8080/"
        },
        "id": "v9T0KvdXJP9P",
        "outputId": "48bd6716-4bde-4221-9e05-f75ba9d5901e"
      },
      "source": [
        "lr.fit(X_train, Y_train)"
      ],
      "execution_count": null,
      "outputs": [
        {
          "output_type": "execute_result",
          "data": {
            "text/plain": [
              "LinearRegression(copy_X=True, fit_intercept=True, n_jobs=None, normalize=False)"
            ]
          },
          "metadata": {
            "tags": []
          },
          "execution_count": 241
        }
      ]
    },
    {
      "cell_type": "code",
      "metadata": {
        "colab": {
          "base_uri": "https://localhost:8080/"
        },
        "id": "e-OODsGVJP6G",
        "outputId": "4c3aa905-c18a-4174-8dca-f54c52ffeb84"
      },
      "source": [
        "print(\"LR Coef: \",lr.coef_)"
      ],
      "execution_count": null,
      "outputs": [
        {
          "output_type": "stream",
          "text": [
            "LR Coef:  [-1.21101235e-01 -4.55580352e-02 -5.95395327e-02 -4.81552952e-02\n",
            "  9.41933520e-02  1.04083409e-17  5.14634974e-03 -2.47009505e-02\n",
            "  2.37914694e-03  6.74877226e-03 -1.46285820e-02  2.22111701e-02\n",
            " -8.83751495e-03]\n"
          ],
          "name": "stdout"
        }
      ]
    },
    {
      "cell_type": "code",
      "metadata": {
        "id": "w0QuuvgrJP3J"
      },
      "source": [
        "y_predicted_dummy = lr.predict(X_test)"
      ],
      "execution_count": null,
      "outputs": []
    },
    {
      "cell_type": "code",
      "metadata": {
        "colab": {
          "base_uri": "https://localhost:8080/"
        },
        "id": "zEKzWHLjJP03",
        "outputId": "b5f2aca3-dd24-42d3-f0c3-ef1c832bff64"
      },
      "source": [
        "mse = mean_squared_error(Y_test, y_predicted_dummy)\n",
        "print(\"Linear Regression MSE: \",mse)"
      ],
      "execution_count": null,
      "outputs": [
        {
          "output_type": "stream",
          "text": [
            "Linear Regression MSE:  0.01780377653103839\n"
          ],
          "name": "stdout"
        }
      ]
    },
    {
      "cell_type": "markdown",
      "metadata": {
        "id": "2v6k9Nj_yuUV"
      },
      "source": [
        "Ridge Regression (L2)"
      ]
    },
    {
      "cell_type": "code",
      "metadata": {
        "id": "3elmn6VjJPxh"
      },
      "source": [
        "ridge = Ridge(random_state = 42, max_iter = 1000)\n",
        "alphas = np.logspace(-4,-0.5,30)"
      ],
      "execution_count": null,
      "outputs": []
    },
    {
      "cell_type": "code",
      "metadata": {
        "id": "wtWLztbfJPuR"
      },
      "source": [
        "tuned_parameters = [{'alpha':alphas}]\n",
        "n_folds = 5"
      ],
      "execution_count": null,
      "outputs": []
    },
    {
      "cell_type": "code",
      "metadata": {
        "id": "QurCjNXbJPmc"
      },
      "source": [
        "clf = GridSearchCV(ridge, tuned_parameters, cv = n_folds, scoring = \"neg_mean_squared_error\", refit = True)\n"
      ],
      "execution_count": null,
      "outputs": []
    },
    {
      "cell_type": "code",
      "metadata": {
        "colab": {
          "base_uri": "https://localhost:8080/"
        },
        "id": "8R16cQc5y47Y",
        "outputId": "6a59feac-b368-4604-ddf5-1b07c8b0c708"
      },
      "source": [
        "clf.fit(X_train, Y_train)"
      ],
      "execution_count": null,
      "outputs": [
        {
          "output_type": "execute_result",
          "data": {
            "text/plain": [
              "GridSearchCV(cv=5, error_score=nan,\n",
              "             estimator=Ridge(alpha=1.0, copy_X=True, fit_intercept=True,\n",
              "                             max_iter=1000, normalize=False, random_state=42,\n",
              "                             solver='auto', tol=0.001),\n",
              "             iid='deprecated', n_jobs=None,\n",
              "             param_grid=[{'alpha': array([1.00000000e-04, 1.32035178e-04, 1.74332882e-04, 2.30180731e-04,\n",
              "       3.03919538e-04, 4.01280703e-04, 5.29831691e-04, 6.99564216e-04,\n",
              "       9.23670857e...\n",
              "       2.80721620e-03, 3.70651291e-03, 4.89390092e-03, 6.46167079e-03,\n",
              "       8.53167852e-03, 1.12648169e-02, 1.48735211e-02, 1.96382800e-02,\n",
              "       2.59294380e-02, 3.42359796e-02, 4.52035366e-02, 5.96845700e-02,\n",
              "       7.88046282e-02, 1.04049831e-01, 1.37382380e-01, 1.81393069e-01,\n",
              "       2.39502662e-01, 3.16227766e-01])}],\n",
              "             pre_dispatch='2*n_jobs', refit=True, return_train_score=False,\n",
              "             scoring='neg_mean_squared_error', verbose=0)"
            ]
          },
          "metadata": {
            "tags": []
          },
          "execution_count": 248
        }
      ]
    },
    {
      "cell_type": "code",
      "metadata": {
        "id": "EMCIcDfQy6TE"
      },
      "source": [
        "scores = clf.cv_results_[\"mean_test_score\"]\n",
        "scores_std = clf.cv_results_[\"std_test_score\"]"
      ],
      "execution_count": null,
      "outputs": []
    },
    {
      "cell_type": "code",
      "metadata": {
        "colab": {
          "base_uri": "https://localhost:8080/"
        },
        "id": "OtYc7-Xey8yD",
        "outputId": "ac8076a9-2bc0-4ce0-cbf0-cb8b5996a30e"
      },
      "source": [
        "print(\"Ridge Coef: \",clf.best_estimator_.coef_)\n",
        "ridge = clf.best_estimator_\n",
        "print(\"Ridge Best Estimator: \", ridge)"
      ],
      "execution_count": null,
      "outputs": [
        {
          "output_type": "stream",
          "text": [
            "Ridge Coef:  [-0.10285747 -0.04596053 -0.06532809 -0.04703368  0.09401689  0.\n",
            "  0.01082148 -0.02307721 -0.00116098  0.00097552 -0.01534303  0.02275077\n",
            " -0.0084845 ]\n",
            "Ridge Best Estimator:  Ridge(alpha=0.31622776601683794, copy_X=True, fit_intercept=True, max_iter=1000,\n",
            "      normalize=False, random_state=42, solver='auto', tol=0.001)\n"
          ],
          "name": "stdout"
        }
      ]
    },
    {
      "cell_type": "code",
      "metadata": {
        "colab": {
          "base_uri": "https://localhost:8080/"
        },
        "id": "W0dthT37y9a0",
        "outputId": "bb8e9a82-eae2-4d6a-e4fe-5545a23e50c0"
      },
      "source": [
        "y_predicted_dummy = clf.predict(X_test)\n",
        "mse = mean_squared_error(Y_test, y_predicted_dummy)\n",
        "print(\"Ridge MSE: \",mse)"
      ],
      "execution_count": null,
      "outputs": [
        {
          "output_type": "stream",
          "text": [
            "Ridge MSE:  0.01705176737178957\n"
          ],
          "name": "stdout"
        }
      ]
    },
    {
      "cell_type": "code",
      "metadata": {
        "colab": {
          "base_uri": "https://localhost:8080/",
          "height": 316
        },
        "id": "Jy4qqrsly_aI",
        "outputId": "8c34aa3c-873f-4224-cf69-2089e831064e"
      },
      "source": [
        "plt.figure()\n",
        "plt.semilogx(alphas, scores)\n",
        "plt.xlabel(\"alpha\")\n",
        "plt.ylabel(\"score\")\n",
        "plt.title(\"Ridge\")"
      ],
      "execution_count": null,
      "outputs": [
        {
          "output_type": "execute_result",
          "data": {
            "text/plain": [
              "Text(0.5, 1.0, 'Ridge')"
            ]
          },
          "metadata": {
            "tags": []
          },
          "execution_count": 252
        },
        {
          "output_type": "display_data",
          "data": {
            "image/png": "[encoded data removed]",
            "text/plain": [
              "<Figure size 432x288 with 1 Axes>"
            ]
          },
          "metadata": {
            "tags": [],
            "needs_background": "light"
          }
        }
      ]
    },
    {
      "cell_type": "markdown",
      "metadata": {
        "id": "4gcB2N4SzC2J"
      },
      "source": [
        "Lasso Regression (L1)"
      ]
    },
    {
      "cell_type": "code",
      "metadata": {
        "id": "vOpsjsSDzBdN"
      },
      "source": [
        "lasso = Lasso(random_state=42, max_iter=1000)\n",
        "alphas = np.logspace(-4, -0.5, 30)"
      ],
      "execution_count": null,
      "outputs": []
    },
    {
      "cell_type": "code",
      "metadata": {
        "id": "GvSuYQV5zKpS"
      },
      "source": [
        "tuned_parameters = [{'alpha': alphas}]\n",
        "n_folds = 5"
      ],
      "execution_count": null,
      "outputs": []
    },
    {
      "cell_type": "code",
      "metadata": {
        "id": "-NO_Z0OazLri"
      },
      "source": [
        "clf = GridSearchCV(lasso, tuned_parameters, cv=n_folds, scoring='neg_mean_squared_error',refit=True)\n"
      ],
      "execution_count": null,
      "outputs": []
    },
    {
      "cell_type": "code",
      "metadata": {
        "colab": {
          "base_uri": "https://localhost:8080/"
        },
        "id": "dwoaUoqozNVl",
        "outputId": "d5c16b1c-4b1a-4fcd-b47e-486266adad2b"
      },
      "source": [
        "clf.fit(X_train,Y_train)"
      ],
      "execution_count": null,
      "outputs": [
        {
          "output_type": "execute_result",
          "data": {
            "text/plain": [
              "GridSearchCV(cv=5, error_score=nan,\n",
              "             estimator=Lasso(alpha=1.0, copy_X=True, fit_intercept=True,\n",
              "                             max_iter=1000, normalize=False, positive=False,\n",
              "                             precompute=False, random_state=42,\n",
              "                             selection='cyclic', tol=0.0001, warm_start=False),\n",
              "             iid='deprecated', n_jobs=None,\n",
              "             param_grid=[{'alpha': array([1.00000000e-04, 1.32035178e-04, 1.74332882e-04, 2.30180731e-04,\n",
              "       3.03919538e-04, 4...\n",
              "       2.80721620e-03, 3.70651291e-03, 4.89390092e-03, 6.46167079e-03,\n",
              "       8.53167852e-03, 1.12648169e-02, 1.48735211e-02, 1.96382800e-02,\n",
              "       2.59294380e-02, 3.42359796e-02, 4.52035366e-02, 5.96845700e-02,\n",
              "       7.88046282e-02, 1.04049831e-01, 1.37382380e-01, 1.81393069e-01,\n",
              "       2.39502662e-01, 3.16227766e-01])}],\n",
              "             pre_dispatch='2*n_jobs', refit=True, return_train_score=False,\n",
              "             scoring='neg_mean_squared_error', verbose=0)"
            ]
          },
          "metadata": {
            "tags": []
          },
          "execution_count": 256
        }
      ]
    },
    {
      "cell_type": "code",
      "metadata": {
        "id": "hkPyiaeuzQR0"
      },
      "source": [
        "scores = clf.cv_results_['mean_test_score']\n",
        "scores_std = clf.cv_results_['std_test_score']"
      ],
      "execution_count": null,
      "outputs": []
    },
    {
      "cell_type": "code",
      "metadata": {
        "colab": {
          "base_uri": "https://localhost:8080/"
        },
        "id": "obbayYCqzRk-",
        "outputId": "4cf91834-e96d-4f23-cd87-04b8f40f6a3f"
      },
      "source": [
        "print(\"Lasso Coef: \",clf.best_estimator_.coef_)\n",
        "lasso = clf.best_estimator_\n",
        "print(\"Lasso Best Estimator: \",lasso)"
      ],
      "execution_count": null,
      "outputs": [
        {
          "output_type": "stream",
          "text": [
            "Lasso Coef:  [-0.11896842 -0.         -0.08103413 -0.01166124  0.07100283  0.\n",
            "  0.00304688 -0.         -0.         -0.         -0.          0.\n",
            "  0.        ]\n",
            "Lasso Best Estimator:  Lasso(alpha=0.0196382800192977, copy_X=True, fit_intercept=True, max_iter=1000,\n",
            "      normalize=False, positive=False, precompute=False, random_state=42,\n",
            "      selection='cyclic', tol=0.0001, warm_start=False)\n"
          ],
          "name": "stdout"
        }
      ]
    },
    {
      "cell_type": "code",
      "metadata": {
        "colab": {
          "base_uri": "https://localhost:8080/"
        },
        "id": "a7dov9_0zS-s",
        "outputId": "bb3f9a0c-61c0-4b09-ee9a-23f39f276913"
      },
      "source": [
        "y_predicted_dummy = clf.predict(X_test)\n",
        "mse = mean_squared_error(Y_test,y_predicted_dummy)\n",
        "print(\"Lasso MSE: \",mse)"
      ],
      "execution_count": null,
      "outputs": [
        {
          "output_type": "stream",
          "text": [
            "Lasso MSE:  0.016520105807563995\n"
          ],
          "name": "stdout"
        }
      ]
    },
    {
      "cell_type": "code",
      "metadata": {
        "colab": {
          "base_uri": "https://localhost:8080/",
          "height": 316
        },
        "id": "qN0r4qgBzUWC",
        "outputId": "3bc3915a-e165-4150-f895-6fffd48cebbc"
      },
      "source": [
        "plt.figure()\n",
        "plt.semilogx(alphas, scores)\n",
        "plt.xlabel(\"alpha\")\n",
        "plt.ylabel(\"score\")\n",
        "plt.title(\"Lasso\")"
      ],
      "execution_count": null,
      "outputs": [
        {
          "output_type": "execute_result",
          "data": {
            "text/plain": [
              "Text(0.5, 1.0, 'Lasso')"
            ]
          },
          "metadata": {
            "tags": []
          },
          "execution_count": 260
        },
        {
          "output_type": "display_data",
          "data": {
            "image/png": "[encoded data removed]",
            "text/plain": [
              "<Figure size 432x288 with 1 Axes>"
            ]
          },
          "metadata": {
            "tags": [],
            "needs_background": "light"
          }
        }
      ]
    },
    {
      "cell_type": "markdown",
      "metadata": {
        "id": "G5PqdwKlzV3M"
      },
      "source": [
        "ElasticNet"
      ]
    },
    {
      "cell_type": "code",
      "metadata": {
        "id": "glOC_u7zzXMZ"
      },
      "source": [
        "parametersGrid = {\"alpha\": alphas,\n",
        "                  \"l1_ratio\": np.arange(0.0, 1.0, 0.05)}"
      ],
      "execution_count": null,
      "outputs": []
    },
    {
      "cell_type": "code",
      "metadata": {
        "id": "GFtLa6OMzo5o"
      },
      "source": [
        "eNet = ElasticNet(random_state=42, max_iter=1000)"
      ],
      "execution_count": null,
      "outputs": []
    },
    {
      "cell_type": "code",
      "metadata": {
        "id": "-KrFMBNfzr10"
      },
      "source": [
        "clf = GridSearchCV(eNet, parametersGrid, cv=n_folds, scoring='neg_mean_squared_error', refit=True)"
      ],
      "execution_count": null,
      "outputs": []
    },
    {
      "cell_type": "code",
      "metadata": {
        "colab": {
          "base_uri": "https://localhost:8080/"
        },
        "id": "GE_isIdJzt1w",
        "outputId": "d106ab51-616a-4049-c949-46dd65dff56b"
      },
      "source": [
        "clf.fit(X_train, Y_train)"
      ],
      "execution_count": null,
      "outputs": [
        {
          "output_type": "execute_result",
          "data": {
            "text/plain": [
              "GridSearchCV(cv=5, error_score=nan,\n",
              "             estimator=ElasticNet(alpha=1.0, copy_X=True, fit_intercept=True,\n",
              "                                  l1_ratio=0.5, max_iter=1000, normalize=False,\n",
              "                                  positive=False, precompute=False,\n",
              "                                  random_state=42, selection='cyclic',\n",
              "                                  tol=0.0001, warm_start=False),\n",
              "             iid='deprecated', n_jobs=None,\n",
              "             param_grid={'alpha': array([1.00000000e-04, 1.32035178e-04, 1.74332882e-04, 2.30180731e-04...\n",
              "       2.59294380e-02, 3.42359796e-02, 4.52035366e-02, 5.96845700e-02,\n",
              "       7.88046282e-02, 1.04049831e-01, 1.37382380e-01, 1.81393069e-01,\n",
              "       2.39502662e-01, 3.16227766e-01]),\n",
              "                         'l1_ratio': array([0.  , 0.05, 0.1 , 0.15, 0.2 , 0.25, 0.3 , 0.35, 0.4 , 0.45, 0.5 ,\n",
              "       0.55, 0.6 , 0.65, 0.7 , 0.75, 0.8 , 0.85, 0.9 , 0.95])},\n",
              "             pre_dispatch='2*n_jobs', refit=True, return_train_score=False,\n",
              "             scoring='neg_mean_squared_error', verbose=0)"
            ]
          },
          "metadata": {
            "tags": []
          },
          "execution_count": 264
        }
      ]
    },
    {
      "cell_type": "code",
      "metadata": {
        "id": "3ND-VLbvBID3"
      },
      "source": [
        "eNet = clf.best_estimator_"
      ],
      "execution_count": null,
      "outputs": []
    },
    {
      "cell_type": "code",
      "metadata": {
        "colab": {
          "base_uri": "https://localhost:8080/"
        },
        "id": "7vslW_T1zvhf",
        "outputId": "f35da8b6-6665-428d-b9d2-2ebe7c0abf75"
      },
      "source": [
        "print(\"ElasticNet Coef: \",clf.best_estimator_.coef_)\n",
        "print(\"ElasticNet Best Estimator: \",clf.best_estimator_)"
      ],
      "execution_count": null,
      "outputs": [
        {
          "output_type": "stream",
          "text": [
            "ElasticNet Coef:  [-0.06677399 -0.03329352 -0.06777475 -0.03014659  0.07455473  0.\n",
            "  0.0392998  -0.00073448 -0.         -0.01057325 -0.00872815  0.01347745\n",
            "  0.        ]\n",
            "ElasticNet Best Estimator:  ElasticNet(alpha=0.1373823795883264, copy_X=True, fit_intercept=True,\n",
            "           l1_ratio=0.05, max_iter=1000, normalize=False, positive=False,\n",
            "           precompute=False, random_state=42, selection='cyclic', tol=0.0001,\n",
            "           warm_start=False)\n"
          ],
          "name": "stdout"
        }
      ]
    },
    {
      "cell_type": "code",
      "metadata": {
        "colab": {
          "base_uri": "https://localhost:8080/"
        },
        "id": "terNsAOtzxwC",
        "outputId": "580cb6c4-dc7d-4243-bfce-8f118d931726"
      },
      "source": [
        "y_predicted_dummy = clf.predict(X_test)\n",
        "mse = mean_squared_error(Y_test,y_predicted_dummy)\n",
        "print(\"ElasticNet MSE: \",mse)"
      ],
      "execution_count": null,
      "outputs": [
        {
          "output_type": "stream",
          "text": [
            "ElasticNet MSE:  0.014937926405166647\n"
          ],
          "name": "stdout"
        }
      ]
    },
    {
      "cell_type": "markdown",
      "metadata": {
        "id": "pWuuz0f8MmlX"
      },
      "source": [
        "Lstm"
      ]
    },
    {
      "cell_type": "code",
      "metadata": {
        "id": "m45dsq1kHsS3",
        "colab": {
          "base_uri": "https://localhost:8080/"
        },
        "outputId": "5145895d-abb0-408c-d1c4-70f016461d41"
      },
      "source": [
        "data.shape"
      ],
      "execution_count": null,
      "outputs": [
        {
          "output_type": "execute_result",
          "data": {
            "text/plain": [
              "(391, 14)"
            ]
          },
          "metadata": {
            "tags": []
          },
          "execution_count": 268
        }
      ]
    },
    {
      "cell_type": "code",
      "metadata": {
        "id": "izBf1hj_HtLo",
        "colab": {
          "base_uri": "https://localhost:8080/"
        },
        "outputId": "ed8c8930-4756-4992-b082-f2f265153ede"
      },
      "source": [
        "data = data.loc[:, [\"target\"]].values\n",
        "data"
      ],
      "execution_count": null,
      "outputs": [
        {
          "output_type": "execute_result",
          "data": {
            "text/plain": [
              "array([[2.94443898],\n",
              "       [2.77258872],\n",
              "       [2.94443898],\n",
              "       [2.83321334],\n",
              "       [2.89037176],\n",
              "       [2.77258872],\n",
              "       [2.7080502 ],\n",
              "       [2.7080502 ],\n",
              "       [2.77258872],\n",
              "       [2.77258872],\n",
              "       [2.7080502 ],\n",
              "       [2.77258872],\n",
              "       [3.21887582],\n",
              "       [3.13549422],\n",
              "       [2.94443898],\n",
              "       [3.09104245],\n",
              "       [3.33220451],\n",
              "       [3.29583687],\n",
              "       [3.25809654],\n",
              "       [3.21887582],\n",
              "       [3.25809654],\n",
              "       [3.29583687],\n",
              "       [3.09104245],\n",
              "       [2.39789527],\n",
              "       [2.39789527],\n",
              "       [2.48490665],\n",
              "       [2.30258509],\n",
              "       [3.33220451],\n",
              "       [3.36729583],\n",
              "       [3.25809654],\n",
              "       [3.25809654],\n",
              "       [2.99573227],\n",
              "       [2.83321334],\n",
              "       [2.89037176],\n",
              "       [2.99573227],\n",
              "       [2.94443898],\n",
              "       [2.7080502 ],\n",
              "       [2.7080502 ],\n",
              "       [2.7080502 ],\n",
              "       [2.7080502 ],\n",
              "       [2.56494936],\n",
              "       [2.63905733],\n",
              "       [2.63905733],\n",
              "       [2.94443898],\n",
              "       [3.13549422],\n",
              "       [2.99573227],\n",
              "       [2.94443898],\n",
              "       [3.17805383],\n",
              "       [3.36729583],\n",
              "       [3.4339872 ],\n",
              "       [3.4339872 ],\n",
              "       [3.4657359 ],\n",
              "       [3.58351894],\n",
              "       [3.33220451],\n",
              "       [3.29583687],\n",
              "       [3.21887582],\n",
              "       [3.25809654],\n",
              "       [3.17805383],\n",
              "       [3.04452244],\n",
              "       [3.09104245],\n",
              "       [2.63905733],\n",
              "       [2.7080502 ],\n",
              "       [2.77258872],\n",
              "       [2.7080502 ],\n",
              "       [2.89037176],\n",
              "       [2.48490665],\n",
              "       [2.63905733],\n",
              "       [2.56494936],\n",
              "       [2.63905733],\n",
              "       [2.99573227],\n",
              "       [2.77258872],\n",
              "       [2.63905733],\n",
              "       [2.63905733],\n",
              "       [2.7080502 ],\n",
              "       [2.94443898],\n",
              "       [3.13549422],\n",
              "       [3.09104245],\n",
              "       [3.29583687],\n",
              "       [3.13549422],\n",
              "       [3.36729583],\n",
              "       [3.17805383],\n",
              "       [3.36729583],\n",
              "       [3.33220451],\n",
              "       [2.63905733],\n",
              "       [2.7080502 ],\n",
              "       [2.63905733],\n",
              "       [2.7080502 ],\n",
              "       [2.77258872],\n",
              "       [2.56494936],\n",
              "       [2.63905733],\n",
              "       [2.63905733],\n",
              "       [2.7080502 ],\n",
              "       [2.63905733],\n",
              "       [2.63905733],\n",
              "       [2.94443898],\n",
              "       [2.83321334],\n",
              "       [2.94443898],\n",
              "       [2.94443898],\n",
              "       [3.17805383],\n",
              "       [3.29583687],\n",
              "       [2.48490665],\n",
              "       [2.56494936],\n",
              "       [2.63905733],\n",
              "       [2.56494936],\n",
              "       [2.94443898],\n",
              "       [3.04452244],\n",
              "       [3.09104245],\n",
              "       [3.13549422],\n",
              "       [2.94443898],\n",
              "       [2.99573227],\n",
              "       [3.09104245],\n",
              "       [3.29583687],\n",
              "       [2.77258872],\n",
              "       [3.40119738],\n",
              "       [3.21887582],\n",
              "       [3.04452244],\n",
              "       [2.99573227],\n",
              "       [2.77258872],\n",
              "       [3.21887582],\n",
              "       [3.04452244],\n",
              "       [2.48490665],\n",
              "       [3.04452244],\n",
              "       [3.09104245],\n",
              "       [2.99573227],\n",
              "       [2.77258872],\n",
              "       [3.4657359 ],\n",
              "       [3.29583687],\n",
              "       [3.49650756],\n",
              "       [3.25809654],\n",
              "       [2.83321334],\n",
              "       [2.83321334],\n",
              "       [2.94443898],\n",
              "       [2.83321334],\n",
              "       [2.63905733],\n",
              "       [2.7080502 ],\n",
              "       [2.7080502 ],\n",
              "       [2.7080502 ],\n",
              "       [3.40119738],\n",
              "       [3.29583687],\n",
              "       [3.29583687],\n",
              "       [3.4657359 ],\n",
              "       [3.49650756],\n",
              "       [3.36729583],\n",
              "       [3.21887582],\n",
              "       [3.29583687],\n",
              "       [3.21887582],\n",
              "       [3.29583687],\n",
              "       [3.4657359 ],\n",
              "       [2.99573227],\n",
              "       [2.94443898],\n",
              "       [2.77258872],\n",
              "       [2.77258872],\n",
              "       [2.83321334],\n",
              "       [2.77258872],\n",
              "       [2.83321334],\n",
              "       [2.7080502 ],\n",
              "       [2.89037176],\n",
              "       [2.83321334],\n",
              "       [2.77258872],\n",
              "       [2.94443898],\n",
              "       [3.09104245],\n",
              "       [3.04452244],\n",
              "       [2.63905733],\n",
              "       [3.40119738],\n",
              "       [3.17805383],\n",
              "       [3.04452244],\n",
              "       [3.17805383],\n",
              "       [3.21887582],\n",
              "       [3.25809654],\n",
              "       [3.21887582],\n",
              "       [2.94443898],\n",
              "       [3.40119738],\n",
              "       [2.99573227],\n",
              "       [3.17805383],\n",
              "       [3.17805383],\n",
              "       [3.13549422],\n",
              "       [3.25809654],\n",
              "       [3.52636052],\n",
              "       [3.36729583],\n",
              "       [3.25809654],\n",
              "       [3.25809654],\n",
              "       [3.29583687],\n",
              "       [3.33220451],\n",
              "       [2.91777073],\n",
              "       [2.83321334],\n",
              "       [2.80336038],\n",
              "       [2.74084002],\n",
              "       [3.13549422],\n",
              "       [3.13549422],\n",
              "       [3.21887582],\n",
              "       [3.15700042],\n",
              "       [3.40119738],\n",
              "       [3.23867845],\n",
              "       [3.40119738],\n",
              "       [3.52636052],\n",
              "       [3.04452244],\n",
              "       [2.94443898],\n",
              "       [2.97041447],\n",
              "       [2.91777073],\n",
              "       [3.41772668],\n",
              "       [3.49650756],\n",
              "       [3.36729583],\n",
              "       [3.314186  ],\n",
              "       [3.04452244],\n",
              "       [2.63905733],\n",
              "       [2.99573227],\n",
              "       [2.99573227],\n",
              "       [2.86220088],\n",
              "       [2.86220088],\n",
              "       [2.63905733],\n",
              "       [2.63905733],\n",
              "       [2.63905733],\n",
              "       [3.48124009],\n",
              "       [3.4339872 ],\n",
              "       [3.61091791],\n",
              "       [3.27714473],\n",
              "       [3.54095932],\n",
              "       [2.91777073],\n",
              "       [2.89037176],\n",
              "       [2.80336038],\n",
              "       [2.77258872],\n",
              "       [2.91777073],\n",
              "       [3.06805294],\n",
              "       [2.99573227],\n",
              "       [2.97041447],\n",
              "       [2.83321334],\n",
              "       [2.80336038],\n",
              "       [2.80336038],\n",
              "       [2.83321334],\n",
              "       [3.40119738],\n",
              "       [3.23867845],\n",
              "       [3.29583687],\n",
              "       [3.27714473],\n",
              "       [3.44998755],\n",
              "       [3.54095932],\n",
              "       [3.4339872 ],\n",
              "       [3.44998755],\n",
              "       [3.13549422],\n",
              "       [3.11351531],\n",
              "       [3.11351531],\n",
              "       [3.78645978],\n",
              "       [3.61361697],\n",
              "       [3.5204608 ],\n",
              "       [3.69882978],\n",
              "       [3.61361697],\n",
              "       [3.03974916],\n",
              "       [3.0155349 ],\n",
              "       [3.05400118],\n",
              "       [3.0056826 ],\n",
              "       [3.06805294],\n",
              "       [3.05400118],\n",
              "       [3.26193531],\n",
              "       [3.06805294],\n",
              "       [3.0155349 ],\n",
              "       [3.07269331],\n",
              "       [3.08190997],\n",
              "       [2.97552957],\n",
              "       [2.94968834],\n",
              "       [3.0056826 ],\n",
              "       [2.92852352],\n",
              "       [2.94968834],\n",
              "       [2.91777073],\n",
              "       [3.4339872 ],\n",
              "       [3.34990409],\n",
              "       [3.33932198],\n",
              "       [3.46260601],\n",
              "       [3.09557761],\n",
              "       [3.18635263],\n",
              "       [3.21084365],\n",
              "       [3.2148678 ],\n",
              "       [3.05870707],\n",
              "       [2.89037176],\n",
              "       [3.11794991],\n",
              "       [2.84490938],\n",
              "       [3.48124009],\n",
              "       [3.41772668],\n",
              "       [3.11351531],\n",
              "       [3.03495299],\n",
              "       [3.14845336],\n",
              "       [3.05400118],\n",
              "       [3.07269331],\n",
              "       [2.89037176],\n",
              "       [2.92316158],\n",
              "       [2.86220088],\n",
              "       [2.95491028],\n",
              "       [2.88480071],\n",
              "       [2.80336038],\n",
              "       [3.0056826 ],\n",
              "       [2.97041447],\n",
              "       [3.49347266],\n",
              "       [3.55820113],\n",
              "       [3.60277676],\n",
              "       [3.34638915],\n",
              "       [3.27336401],\n",
              "       [3.17805383],\n",
              "       [3.2148678 ],\n",
              "       [3.56104608],\n",
              "       [3.5695327 ],\n",
              "       [3.49042852],\n",
              "       [3.6454499 ],\n",
              "       [3.38099467],\n",
              "       [3.39450839],\n",
              "       [3.32503602],\n",
              "       [3.54095932],\n",
              "       [3.74950408],\n",
              "       [3.66612247],\n",
              "       [3.49953328],\n",
              "       [3.64283552],\n",
              "       [3.36729583],\n",
              "       [3.31054301],\n",
              "       [3.2308044 ],\n",
              "       [3.00071982],\n",
              "       [3.56388296],\n",
              "       [3.42751469],\n",
              "       [3.47506723],\n",
              "       [3.63758616],\n",
              "       [3.50254988],\n",
              "       [3.86283276],\n",
              "       [3.3638416 ],\n",
              "       [3.73289634],\n",
              "       [3.81330703],\n",
              "       [3.6216707 ],\n",
              "       [3.4339872 ],\n",
              "       [3.81990772],\n",
              "       [3.73528583],\n",
              "       [3.54961739],\n",
              "       [3.42751469],\n",
              "       [3.51749784],\n",
              "       [3.20680324],\n",
              "       [3.58351894],\n",
              "       [3.20274644],\n",
              "       [3.5085559 ],\n",
              "       [3.33932198],\n",
              "       [3.31781577],\n",
              "       [3.28840189],\n",
              "       [3.19867312],\n",
              "       [3.4339872 ],\n",
              "       [3.69137633],\n",
              "       [3.68887945],\n",
              "       [3.58629287],\n",
              "       [3.5055574 ],\n",
              "       [3.63758616],\n",
              "       [3.6558396 ],\n",
              "       [3.55820113],\n",
              "       [3.57515069],\n",
              "       [3.56671182],\n",
              "       [3.43075618],\n",
              "       [3.52636052],\n",
              "       [3.5695327 ],\n",
              "       [3.54673969],\n",
              "       [3.5085559 ],\n",
              "       [3.52341501],\n",
              "       [3.48431229],\n",
              "       [3.37073817],\n",
              "       [3.45631668],\n",
              "       [3.27336401],\n",
              "       [3.22684399],\n",
              "       [3.15273602],\n",
              "       [3.31781577],\n",
              "       [3.05400118],\n",
              "       [2.92316158],\n",
              "       [3.36729583],\n",
              "       [3.33220451],\n",
              "       [3.55534806],\n",
              "       [3.4657359 ],\n",
              "       [3.40119738],\n",
              "       [3.33220451],\n",
              "       [3.21887582],\n",
              "       [3.17805383],\n",
              "       [3.61091791],\n",
              "       [3.63758616],\n",
              "       [3.4657359 ],\n",
              "       [3.66356165],\n",
              "       [3.61091791],\n",
              "       [3.61091791],\n",
              "       [3.61091791],\n",
              "       [3.55534806],\n",
              "       [3.66356165],\n",
              "       [3.49650756],\n",
              "       [3.66356165],\n",
              "       [3.25809654],\n",
              "       [3.66356165],\n",
              "       [3.29583687],\n",
              "       [3.13549422],\n",
              "       [3.49650756],\n",
              "       [3.61091791],\n",
              "       [3.33220451],\n",
              "       [3.33220451],\n",
              "       [3.49650756],\n",
              "       [3.36729583],\n",
              "       [3.4657359 ]])"
            ]
          },
          "metadata": {
            "tags": []
          },
          "execution_count": 269
        }
      ]
    },
    {
      "cell_type": "code",
      "metadata": {
        "colab": {
          "base_uri": "https://localhost:8080/"
        },
        "id": "c7FtWZyL-HDr",
        "outputId": "351fabd5-8dbd-4af5-c1ac-9caf4f594ffe"
      },
      "source": [
        "data = data.reshape(-1,1)\n",
        "data = data.astype(\"float32\")\n",
        "data.shape"
      ],
      "execution_count": null,
      "outputs": [
        {
          "output_type": "execute_result",
          "data": {
            "text/plain": [
              "(391, 1)"
            ]
          },
          "metadata": {
            "tags": []
          },
          "execution_count": 270
        }
      ]
    },
    {
      "cell_type": "code",
      "metadata": {
        "id": "M8PmCdig-HBA"
      },
      "source": [
        "# scaling \n",
        "scaler = MinMaxScaler(feature_range=(0, 1))\n",
        "data = scaler.fit_transform(data)"
      ],
      "execution_count": null,
      "outputs": []
    },
    {
      "cell_type": "code",
      "metadata": {
        "colab": {
          "base_uri": "https://localhost:8080/"
        },
        "id": "AI4VCfMj-G-e",
        "outputId": "642037b6-792b-4bae-90bb-72c40b04d65b"
      },
      "source": [
        "train_size = int(len(data) * 0.50)\n",
        "test_size = len(data) - train_size\n",
        "train = data[0:train_size,:]\n",
        "test = data[train_size:len(data),:]\n",
        "print(\"train size: {}, test size: {} \".format(len(train), len(test)))"
      ],
      "execution_count": null,
      "outputs": [
        {
          "output_type": "stream",
          "text": [
            "train size: 195, test size: 196 \n"
          ],
          "name": "stdout"
        }
      ]
    },
    {
      "cell_type": "code",
      "metadata": {
        "id": "ShPya6cO-G8d"
      },
      "source": [
        "time_stemp = 10\n",
        "dataX = []\n",
        "dataY = []\n",
        "for i in range(len(train)-time_stemp-1):\n",
        "    a = train[i:(i+time_stemp), 0]\n",
        "    dataX.append(a)\n",
        "    dataY.append(train[i + time_stemp, 0])\n",
        "trainX = np.array(dataX)\n",
        "trainY = np.array(dataY)"
      ],
      "execution_count": null,
      "outputs": []
    },
    {
      "cell_type": "code",
      "metadata": {
        "id": "_UuozXyU-G4t"
      },
      "source": [
        "dataX = []\n",
        "dataY = []\n",
        "for i in range(len(test)-time_stemp-1):\n",
        "    a = test[i:(i+time_stemp), 0]\n",
        "    dataX.append(a)\n",
        "    dataY.append(test[i + time_stemp, 0])\n",
        "testX = np.array(dataX)\n",
        "testY = np.array(dataY)  "
      ],
      "execution_count": null,
      "outputs": []
    },
    {
      "cell_type": "code",
      "metadata": {
        "id": "LwTT_l1u-G1q"
      },
      "source": [
        "trainX = np.reshape(trainX, (trainX.shape[0], 1, trainX.shape[1]))\n",
        "testX = np.reshape(testX, (testX.shape[0], 1, testX.shape[1]))"
      ],
      "execution_count": null,
      "outputs": []
    },
    {
      "cell_type": "code",
      "metadata": {
        "colab": {
          "base_uri": "https://localhost:8080/"
        },
        "id": "SjKES0Ox-SnQ",
        "outputId": "1ef928a1-8d8c-4a47-f788-1e3b7d5722ca"
      },
      "source": [
        "# model\n",
        "model = Sequential()\n",
        "model.add(LSTM(10, input_shape=(1, time_stemp))) # 10 lstm neuron(block)\n",
        "model.add(Dense(1))\n",
        "model.compile(loss='mean_squared_error', optimizer='adam')\n",
        "model.fit(trainX, trainY, epochs=50, batch_size=1)"
      ],
      "execution_count": null,
      "outputs": [
        {
          "output_type": "stream",
          "text": [
            "Epoch 1/50\n",
            "184/184 [==============================] - 2s 1ms/step - loss: 0.1084\n",
            "Epoch 2/50\n",
            "184/184 [==============================] - 0s 1ms/step - loss: 0.0306\n",
            "Epoch 3/50\n",
            "184/184 [==============================] - 0s 1ms/step - loss: 0.0272\n",
            "Epoch 4/50\n",
            "184/184 [==============================] - 0s 1ms/step - loss: 0.0238\n",
            "Epoch 5/50\n",
            "184/184 [==============================] - 0s 1ms/step - loss: 0.0184\n",
            "Epoch 6/50\n",
            "184/184 [==============================] - 0s 1ms/step - loss: 0.0166\n",
            "Epoch 7/50\n",
            "184/184 [==============================] - 0s 1ms/step - loss: 0.0179\n",
            "Epoch 8/50\n",
            "184/184 [==============================] - 0s 1ms/step - loss: 0.0221\n",
            "Epoch 9/50\n",
            "184/184 [==============================] - 0s 1ms/step - loss: 0.0206\n",
            "Epoch 10/50\n",
            "184/184 [==============================] - 0s 2ms/step - loss: 0.0209\n",
            "Epoch 11/50\n",
            "184/184 [==============================] - 0s 2ms/step - loss: 0.0182\n",
            "Epoch 12/50\n",
            "184/184 [==============================] - 0s 1ms/step - loss: 0.0206\n",
            "Epoch 13/50\n",
            "184/184 [==============================] - 0s 2ms/step - loss: 0.0199\n",
            "Epoch 14/50\n",
            "184/184 [==============================] - 0s 1ms/step - loss: 0.0224\n",
            "Epoch 15/50\n",
            "184/184 [==============================] - 0s 1ms/step - loss: 0.0201\n",
            "Epoch 16/50\n",
            "184/184 [==============================] - 0s 1ms/step - loss: 0.0146\n",
            "Epoch 17/50\n",
            "184/184 [==============================] - 0s 2ms/step - loss: 0.0165\n",
            "Epoch 18/50\n",
            "184/184 [==============================] - 0s 1ms/step - loss: 0.0194\n",
            "Epoch 19/50\n",
            "184/184 [==============================] - 0s 1ms/step - loss: 0.0206\n",
            "Epoch 20/50\n",
            "184/184 [==============================] - 0s 1ms/step - loss: 0.0205\n",
            "Epoch 21/50\n",
            "184/184 [==============================] - 0s 1ms/step - loss: 0.0244\n",
            "Epoch 22/50\n",
            "184/184 [==============================] - 0s 1ms/step - loss: 0.0185\n",
            "Epoch 23/50\n",
            "184/184 [==============================] - 0s 1ms/step - loss: 0.0146\n",
            "Epoch 24/50\n",
            "184/184 [==============================] - 0s 1ms/step - loss: 0.0212\n",
            "Epoch 25/50\n",
            "184/184 [==============================] - 0s 1ms/step - loss: 0.0245\n",
            "Epoch 26/50\n",
            "184/184 [==============================] - 0s 1ms/step - loss: 0.0207\n",
            "Epoch 27/50\n",
            "184/184 [==============================] - 0s 1ms/step - loss: 0.0186\n",
            "Epoch 28/50\n",
            "184/184 [==============================] - 0s 1ms/step - loss: 0.0227\n",
            "Epoch 29/50\n",
            "184/184 [==============================] - 0s 1ms/step - loss: 0.0196\n",
            "Epoch 30/50\n",
            "184/184 [==============================] - 0s 1ms/step - loss: 0.0187\n",
            "Epoch 31/50\n",
            "184/184 [==============================] - 0s 1ms/step - loss: 0.0176\n",
            "Epoch 32/50\n",
            "184/184 [==============================] - 0s 1ms/step - loss: 0.0223\n",
            "Epoch 33/50\n",
            "184/184 [==============================] - 0s 2ms/step - loss: 0.0180\n",
            "Epoch 34/50\n",
            "184/184 [==============================] - 0s 1ms/step - loss: 0.0192\n",
            "Epoch 35/50\n",
            "184/184 [==============================] - 0s 1ms/step - loss: 0.0219\n",
            "Epoch 36/50\n",
            "184/184 [==============================] - 0s 2ms/step - loss: 0.0170\n",
            "Epoch 37/50\n",
            "184/184 [==============================] - 0s 1ms/step - loss: 0.0187\n",
            "Epoch 38/50\n",
            "184/184 [==============================] - 0s 1ms/step - loss: 0.0153\n",
            "Epoch 39/50\n",
            "184/184 [==============================] - 0s 1ms/step - loss: 0.0196\n",
            "Epoch 40/50\n",
            "184/184 [==============================] - 0s 1ms/step - loss: 0.0205\n",
            "Epoch 41/50\n",
            "184/184 [==============================] - 0s 2ms/step - loss: 0.0167\n",
            "Epoch 42/50\n",
            "184/184 [==============================] - 0s 1ms/step - loss: 0.0173\n",
            "Epoch 43/50\n",
            "184/184 [==============================] - 0s 2ms/step - loss: 0.0199\n",
            "Epoch 44/50\n",
            "184/184 [==============================] - 0s 2ms/step - loss: 0.0160\n",
            "Epoch 45/50\n",
            "184/184 [==============================] - 0s 2ms/step - loss: 0.0194\n",
            "Epoch 46/50\n",
            "184/184 [==============================] - 0s 2ms/step - loss: 0.0175\n",
            "Epoch 47/50\n",
            "184/184 [==============================] - 0s 2ms/step - loss: 0.0201\n",
            "Epoch 48/50\n",
            "184/184 [==============================] - 0s 2ms/step - loss: 0.0181\n",
            "Epoch 49/50\n",
            "184/184 [==============================] - 0s 1ms/step - loss: 0.0141\n",
            "Epoch 50/50\n",
            "184/184 [==============================] - 0s 1ms/step - loss: 0.0167\n"
          ],
          "name": "stdout"
        },
        {
          "output_type": "execute_result",
          "data": {
            "text/plain": [
              "<tensorflow.python.keras.callbacks.History at 0x7fef64403490>"
            ]
          },
          "metadata": {
            "tags": []
          },
          "execution_count": 276
        }
      ]
    },
    {
      "cell_type": "code",
      "metadata": {
        "colab": {
          "base_uri": "https://localhost:8080/"
        },
        "id": "91cNSwBg-SmC",
        "outputId": "e0a88350-0b51-453e-f6b9-1f1dabec49d1"
      },
      "source": [
        "trainPredict = model.predict(trainX)\n",
        "testPredict = model.predict(testX)\n",
        "# invert predictions\n",
        "trainPredict = scaler.inverse_transform(trainPredict)\n",
        "trainY = scaler.inverse_transform([trainY])\n",
        "testPredict = scaler.inverse_transform(testPredict)\n",
        "testY = scaler.inverse_transform([testY])\n",
        "# calculate root mean squared error\n",
        "trainScore = math.sqrt(mean_squared_error(trainY[0], trainPredict[:,0]))\n",
        "print('Train Score: %.2f RMSE' % (trainScore))\n",
        "testScore = math.sqrt(mean_squared_error(testY[0], testPredict[:,0]))\n",
        "print('Test Score: %.2f RMSE' % (testScore))"
      ],
      "execution_count": null,
      "outputs": [
        {
          "output_type": "stream",
          "text": [
            "Train Score: 0.22 RMSE\n",
            "Test Score: 0.23 RMSE\n"
          ],
          "name": "stdout"
        }
      ]
    },
    {
      "cell_type": "code",
      "metadata": {
        "colab": {
          "base_uri": "https://localhost:8080/",
          "height": 265
        },
        "id": "l15Dg7DD-SiO",
        "outputId": "1b976472-6e97-40cf-9070-fe8cc2d2c924"
      },
      "source": [
        "# shifting train\n",
        "trainPredictPlot = np.empty_like(data)\n",
        "trainPredictPlot[:, :] = np.nan\n",
        "trainPredictPlot[time_stemp:len(trainPredict)+time_stemp, :] = trainPredict\n",
        "# shifting test predictions for plotting\n",
        "testPredictPlot = np.empty_like(data)\n",
        "testPredictPlot[:, :] = np.nan\n",
        "testPredictPlot[len(trainPredict)+(time_stemp*2)+1:len(data)-1, :] = testPredict\n",
        "# plot baseline and predictions\n",
        "plt.plot(scaler.inverse_transform(data))\n",
        "plt.plot(trainPredictPlot)\n",
        "plt.plot(testPredictPlot)\n",
        "plt.show()"
      ],
      "execution_count": null,
      "outputs": [
        {
          "output_type": "display_data",
          "data": {
            "image/png": "[encoded data removed]",
            "text/plain": [
              "<Figure size 432x288 with 1 Axes>"
            ]
          },
          "metadata": {
            "tags": [],
            "needs_background": "light"
          }
        }
      ]
    },
    {
      "cell_type": "markdown",
      "metadata": {
        "id": "xmw84awF_RrK"
      },
      "source": [
        "Averaging Models"
      ]
    },
    {
      "cell_type": "code",
      "metadata": {
        "id": "ge3hd48I-Sfa"
      },
      "source": [
        "class AveragingModels():\n",
        "    def __init__(self, models):\n",
        "        self.models = models\n",
        "        \n",
        "    # we define clones of the original models to fit the data in\n",
        "    def fit(self, X, y):\n",
        "        self.models_ = [clone(x) for x in self.models]\n",
        "        \n",
        "        # Train cloned base models\n",
        "        for model in self.models_:\n",
        "            model.fit(X, y)\n",
        "\n",
        "        return self\n",
        "    \n",
        "    #Now we do the predictions for cloned models and average them\n",
        "    def predict(self, X):\n",
        "        predictions = np.column_stack([model.predict(X) for model in self.models_])\n",
        "        return np.mean(predictions, axis=1)  \n"
      ],
      "execution_count": null,
      "outputs": []
    },
    {
      "cell_type": "code",
      "metadata": {
        "colab": {
          "base_uri": "https://localhost:8080/"
        },
        "id": "RO-AQXTO_6mR",
        "outputId": "464c2472-1d5c-45cc-c2f9-9c478ee8eba3"
      },
      "source": [
        "averaged_models = AveragingModels(models = (eNet, lasso))\n",
        "averaged_models.fit(X_train, Y_train)"
      ],
      "execution_count": null,
      "outputs": [
        {
          "output_type": "execute_result",
          "data": {
            "text/plain": [
              "<__main__.AveragingModels at 0x7fef63a51c90>"
            ]
          },
          "metadata": {
            "tags": []
          },
          "execution_count": 280
        }
      ]
    },
    {
      "cell_type": "code",
      "metadata": {
        "colab": {
          "base_uri": "https://localhost:8080/"
        },
        "id": "xnyU-I9E_9E_",
        "outputId": "2a08bcb1-5d18-4ed0-ffc4-a5378e39a525"
      },
      "source": [
        "y_predicted_dummy = averaged_models.predict(X_test)\n",
        "mse = mean_squared_error(Y_test,y_predicted_dummy)\n",
        "print(\"Averaged Models MSE: \",mse)"
      ],
      "execution_count": null,
      "outputs": [
        {
          "output_type": "stream",
          "text": [
            "Averaged Models MSE:  0.015515313158891708\n"
          ],
          "name": "stdout"
        }
      ]
    }
  ]
}